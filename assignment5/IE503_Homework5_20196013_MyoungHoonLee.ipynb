{
 "cells": [
  {
   "cell_type": "code",
   "execution_count": 10,
   "metadata": {},
   "outputs": [],
   "source": [
    "import pandas as pd\n",
    "import numpy as np\n",
    "import random\n",
    "from logistics_reg import LogisticRegression, create_10_fold"
   ]
  },
  {
   "cell_type": "code",
   "execution_count": 11,
   "metadata": {},
   "outputs": [],
   "source": [
    "data = pd.read_csv('./datasets/iris.csv')\n",
    "data = data[data.Species.isin(['Iris-versicolor', 'Iris-virginica'])]\n",
    "data['Species'] = data.Species.map({'Iris-versicolor':0, 'Iris-virginica':1})\n",
    "tmp_X = data[['SepalLengthCm', 'SepalWidthCm', 'PetalLengthCm', 'PetalWidthCm']].values\n",
    "data.iloc[:, :4] = (tmp_X - tmp_X.min(axis=0)) / (tmp_X.max(axis=0) - tmp_X.min(axis=0))\n",
    "df_shuffled=data.sample(frac=1).reset_index(drop=True)"
   ]
  },
  {
   "cell_type": "code",
   "execution_count": 12,
   "metadata": {},
   "outputs": [],
   "source": [
    "train_sample = int(df_shuffled.shape[0] * 0.7)"
   ]
  },
  {
   "cell_type": "code",
   "execution_count": 13,
   "metadata": {},
   "outputs": [],
   "source": [
    "X = df_shuffled.iloc[:,:4].values\n",
    "y = df_shuffled.iloc[:, 4].values"
   ]
  },
  {
   "cell_type": "code",
   "execution_count": 14,
   "metadata": {},
   "outputs": [],
   "source": [
    "train_X = df_shuffled.iloc[:train_sample,:4].values\n",
    "test_X = df_shuffled.iloc[train_sample:,:4].values\n",
    "train_y = df_shuffled.iloc[:train_sample, 4].values\n",
    "test_y = df_shuffled.iloc[train_sample:, 4].values"
   ]
  },
  {
   "cell_type": "code",
   "execution_count": 15,
   "metadata": {},
   "outputs": [],
   "source": [
    "logistic_reg = LogisticRegression(max_iter=1000, verbose=True)"
   ]
  },
  {
   "cell_type": "code",
   "execution_count": 16,
   "metadata": {},
   "outputs": [
    {
     "name": "stdout",
     "output_type": "stream",
     "text": [
      "iter: 0, loss : 48.520304639203914\n",
      "iter: 100, loss : 15.697190244179952\n",
      "iter: 200, loss : 7.6212920106988395\n",
      "iter: 300, loss : 5.263626557001688\n",
      "iter: 400, loss : 4.732137748253449\n",
      "iter: 500, loss : 4.664049769636137\n",
      "iter: 600, loss : 4.65875904512894\n",
      "Convergence iter: 600, loss : 4.65875904512894 , delta_nll : 9.951649350803393e-06\n"
     ]
    }
   ],
   "source": [
    "logistic_reg.fit(train_X, train_y)"
   ]
  },
  {
   "cell_type": "code",
   "execution_count": 17,
   "metadata": {},
   "outputs": [],
   "source": [
    "y_pred = logistic_reg.predict(test_X)"
   ]
  },
  {
   "cell_type": "code",
   "execution_count": 18,
   "metadata": {},
   "outputs": [
    {
     "data": {
      "text/html": [
       "<div>\n",
       "<style scoped>\n",
       "    .dataframe tbody tr th:only-of-type {\n",
       "        vertical-align: middle;\n",
       "    }\n",
       "\n",
       "    .dataframe tbody tr th {\n",
       "        vertical-align: top;\n",
       "    }\n",
       "\n",
       "    .dataframe thead th {\n",
       "        text-align: right;\n",
       "    }\n",
       "</style>\n",
       "<table border=\"1\" class=\"dataframe\">\n",
       "  <thead>\n",
       "    <tr style=\"text-align: right;\">\n",
       "      <th>Actual</th>\n",
       "      <th>0</th>\n",
       "      <th>1</th>\n",
       "    </tr>\n",
       "    <tr>\n",
       "      <th>Predicted</th>\n",
       "      <th></th>\n",
       "      <th></th>\n",
       "    </tr>\n",
       "  </thead>\n",
       "  <tbody>\n",
       "    <tr>\n",
       "      <th>0</th>\n",
       "      <td>16</td>\n",
       "      <td>1</td>\n",
       "    </tr>\n",
       "    <tr>\n",
       "      <th>1</th>\n",
       "      <td>1</td>\n",
       "      <td>12</td>\n",
       "    </tr>\n",
       "  </tbody>\n",
       "</table>\n",
       "</div>"
      ],
      "text/plain": [
       "Actual      0   1\n",
       "Predicted        \n",
       "0          16   1\n",
       "1           1  12"
      ]
     },
     "execution_count": 18,
     "metadata": {},
     "output_type": "execute_result"
    }
   ],
   "source": [
    "logistic_reg.confusion_mat(test_y, y_pred)"
   ]
  },
  {
   "cell_type": "code",
   "execution_count": 19,
   "metadata": {},
   "outputs": [
    {
     "name": "stdout",
     "output_type": "stream",
     "text": [
      "accuracy :  0.9333\n",
      "recall(sensitivity) :  0.9231\n",
      "precision :  0.9231\n",
      "True Negative Rate(specificity) :  0.9412\n"
     ]
    }
   ],
   "source": [
    "logistic_reg.cls_metric()"
   ]
  },
  {
   "cell_type": "code",
   "execution_count": 12,
   "metadata": {},
   "outputs": [],
   "source": [
    "n = 10\n",
    "sample_idx = list(range(X.shape[0]))\n",
    "random.shuffle(sample_idx)\n",
    "result = np.array([sample_idx[i * n:(i + 1) * n] for i in range((len(sample_idx) + n - 1) // n )] )"
   ]
  },
  {
   "cell_type": "code",
   "execution_count": 13,
   "metadata": {},
   "outputs": [],
   "source": [
    "k_fold = create_10_fold(result)"
   ]
  },
  {
   "cell_type": "code",
   "execution_count": 14,
   "metadata": {},
   "outputs": [
    {
     "name": "stdout",
     "output_type": "stream",
     "text": [
      "[35 13 37 23 91  1 78 77 73 61 41 67 17 50 62 25 18 22 63 72 32 66  0 65\n",
      " 10 29 20  8 42  5 27 79 69 38 30 19 70  2 88 47 36 53 46 96  9 43 86  3\n",
      " 51 92 34 80 15 48 59 71  6 26 14 81 90 28 82 74 89 55 33 21 56 76 57 52\n",
      " 84 58 49 87 16 44 12 60  4 95 85 83 99 68 31 75 93  7] [64 11 40 24 39 98 94 97 54 45]\n",
      "[50 82 25 86 10 37 97 63 15  6 91 51 95  2  3 56 90 41 59 21 61  8 75 17\n",
      " 33 43 98 52 38  1 71 24 54 80 14  4 96 28 77 31 78 16 48 20 49 12 26 57\n",
      " 32 45 93 65 73  0 87 88 60 68 99 34 46 69 72 85  9 47 11 19 79 29 64 44\n",
      " 18 83 81 40 84 67 23 62 36 55 22 30 89 42 92 94 39 13] [35 58 27 66  7 53 76 74 70  5]\n",
      "[13 78  2 71 19 41 80 77 15 18 97  0 43 51 29 57 40 64 46 28 10  5 27 59\n",
      " 35 84  8 20 83 36 55 17  4 70 65 74 79 54 39 48 66 24 58 44 14 34 62 93\n",
      " 88 53 45 38 56 73 52  6 22 67 32 72 89 92 31 33 11 68 23  9 81 37 90 91\n",
      "  1 21 82  7 99 26 85 96 49 95 60 16 63 94 76 47 30 98] [69  3 86 12 61 75 42 50 87 25]\n",
      "[45 95  8 94 97 22 20 62  5 39 52 19 93 31  4 76 77  2 27 98 49 63 70 16\n",
      " 91 37 54 53 96 60 74 26 28 14 67 90 81 36  3 32 17 35 21 30 69 65  6 56\n",
      " 71  9 64 42 48 51 10 38 87 55 61 57 75 43 40 88 12 24 18 58  7 84 34 72\n",
      " 23 85 83 82  1 50 68  0 13 15 66 25 78 44 99 73 11 86] [33 79 47 41 89 92 59 80 29 46]\n",
      "[ 5 30 36 89 68 58 79 46 24 90 62 40 16 63 52 82 72 14 64 34 75 42 88 22\n",
      " 91 35 86 99 65 33  6 47 54 96 23 71 84 27 78 26 76 74 18 41 83  7 87  9\n",
      " 49 48 57 45 95 25  2 29  8 31 55  1 15 81 38 13 94 70 97 12 77 53 39 11\n",
      " 69 10  0 66 98 67 85 92  3 51 61 80 56 50 60 59 44 20] [28 37 43 19  4 93 17 32 21 73]\n",
      "[70 40 89 44 20 62  7 86 16 18 42 65 46 25 80 60 52 29 66 97 21 48 34 41\n",
      " 54  1 13 98 96 91 79  6 23 11 77 50 30 51 92 38 19  0 71 17 53 49 37  5\n",
      " 24 99 57 32 88  4 15 35 56 36 64 43 69 83 73 94  8 84 93 82 76 59 67 58\n",
      " 45 28 81 27 33 39 22  9 47  2 14 74 12 63 75  3 87 61] [68 95 31 10 90 78 55 26 85 72]\n",
      "[55 54 74 88 45 86 75 34 81 27 50 71 48 14 49 44 17 10 96 66  8 68 47 11\n",
      " 12  2 24 19 67 90 99 33 70 38 89 92 22 76 78  9 95 61 69 72 53 79 46  7\n",
      " 98 37 16 18  5 73 59 13 21 83 82 93 31 40 58  3 29 94 26 32 36 52 41 28\n",
      " 87 42  4 25  0 85  6 39 64 84 43 80 97 23 65 35 91 62] [60 30 77 51 15 57  1 63 56 20]\n",
      "[17 12 72 80 29 25 58 89 78 62 24 19 35 98 86 97 37  4  5 56 60 64 11 65\n",
      " 27 15 51 26 73  7 52 85 31 54 69 20  6 84 99 33 71 74 95 83 79 92 93 90\n",
      "  1 13 10 21 43 68 70 94 49 88  0 76 41 42 16 66 44 53 14 50 39 46  3 63\n",
      " 57 61  8 47 32 81 45 34 87 28 77 55 36 75 30 59 91 40] [ 2 96 38 82 22 23 48 67  9 18]\n",
      "[68 66 11 33 46  1  4 94 69 35 37 45 49 27 64 39  9 54 98 79 28 29 76 60\n",
      " 73 20 95 22 51 19  3 97 47  5 90 40 86  7 61 38 58 25 75 55 83 24 70 91\n",
      " 26 42 92 53 85 78 72 82  0 12 74 32 18 30 13 56 43 81  6 77 10 87 21 31\n",
      " 48 93  2 23 71 67 41 57 96 17 59 15 52 99 80 63 50 89] [16 14 88 84  8 34 65 62 44 36]\n",
      "[60 75 19 66 35 90 64 22 26 94  1 54 92 15 18 79 39 37 47 34  8 95 77 93\n",
      " 74 40 59 84 76 96 33 55 51 58 45 20 56 61 46 44 67 31 73 68 85 16 42 80\n",
      " 36 27 97 72 87 69  4 28 29 32 17 23 57 62 50 65  5 70 41 89 98 10 30 21\n",
      " 88 63 86 53 25  9 12 78  2  7 11  3 82 43 38 24 48 14] [99 71  6 52 81 91  0 83 49 13]\n"
     ]
    }
   ],
   "source": [
    "for tr, te in k_fold:\n",
    "    print(tr, te)"
   ]
  },
  {
   "cell_type": "code",
   "execution_count": null,
   "metadata": {},
   "outputs": [],
   "source": []
  }
 ],
 "metadata": {
  "kernelspec": {
   "display_name": "Python 3",
   "language": "python",
   "name": "python3"
  },
  "language_info": {
   "codemirror_mode": {
    "name": "ipython",
    "version": 3
   },
   "file_extension": ".py",
   "mimetype": "text/x-python",
   "name": "python",
   "nbconvert_exporter": "python",
   "pygments_lexer": "ipython3",
   "version": "3.7.6"
  }
 },
 "nbformat": 4,
 "nbformat_minor": 4
}
