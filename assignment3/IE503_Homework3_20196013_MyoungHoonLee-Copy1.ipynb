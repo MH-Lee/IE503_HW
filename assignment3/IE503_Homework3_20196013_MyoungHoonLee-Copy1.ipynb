{
 "cells": [
  {
   "cell_type": "code",
   "execution_count": 1,
   "metadata": {},
   "outputs": [
    {
     "data": {
      "text/plain": [
       "(7128, 72)"
      ]
     },
     "execution_count": 1,
     "metadata": {},
     "output_type": "execute_result"
    }
   ],
   "source": [
    "import numpy as np\n",
    "import pandas as pd\n",
    "import scipy\n",
    "import matplotlib.pyplot as plt\n",
    "from tqdm import tqdm\n",
    "from scipy.stats import multivariate_normal\n",
    "\n",
    "data = pd.read_csv('./data/leukemia_big.csv')\n",
    "data.shape"
   ]
  },
  {
   "cell_type": "code",
   "execution_count": 2,
   "metadata": {},
   "outputs": [
    {
     "data": {
      "text/plain": [
       "'/data/notebook/mfa'"
      ]
     },
     "execution_count": 2,
     "metadata": {},
     "output_type": "execute_result"
    }
   ],
   "source": [
    "import os\n",
    "os.getcwd()"
   ]
  },
  {
   "cell_type": "code",
   "execution_count": 3,
   "metadata": {},
   "outputs": [],
   "source": [
    "from module.MFA import MFA"
   ]
  },
  {
   "cell_type": "markdown",
   "metadata": {},
   "source": [
    "## T-test"
   ]
  },
  {
   "cell_type": "code",
   "execution_count": 4,
   "metadata": {},
   "outputs": [
    {
     "data": {
      "text/html": [
       "<div>\n",
       "<style scoped>\n",
       "    .dataframe tbody tr th:only-of-type {\n",
       "        vertical-align: middle;\n",
       "    }\n",
       "\n",
       "    .dataframe tbody tr th {\n",
       "        vertical-align: top;\n",
       "    }\n",
       "\n",
       "    .dataframe thead th {\n",
       "        text-align: right;\n",
       "    }\n",
       "</style>\n",
       "<table border=\"1\" class=\"dataframe\">\n",
       "  <thead>\n",
       "    <tr style=\"text-align: right;\">\n",
       "      <th></th>\n",
       "      <th>ALL</th>\n",
       "      <th>ALL.1</th>\n",
       "      <th>ALL.2</th>\n",
       "      <th>ALL.3</th>\n",
       "      <th>ALL.4</th>\n",
       "      <th>ALL.5</th>\n",
       "      <th>ALL.6</th>\n",
       "      <th>ALL.7</th>\n",
       "      <th>ALL.8</th>\n",
       "      <th>ALL.9</th>\n",
       "      <th>...</th>\n",
       "      <th>AML.15</th>\n",
       "      <th>AML.16</th>\n",
       "      <th>AML.17</th>\n",
       "      <th>AML.18</th>\n",
       "      <th>AML.19</th>\n",
       "      <th>AML.20</th>\n",
       "      <th>AML.21</th>\n",
       "      <th>AML.22</th>\n",
       "      <th>AML.23</th>\n",
       "      <th>AML.24</th>\n",
       "    </tr>\n",
       "  </thead>\n",
       "  <tbody>\n",
       "    <tr>\n",
       "      <th>0</th>\n",
       "      <td>-1.533622</td>\n",
       "      <td>-0.867610</td>\n",
       "      <td>-0.433172</td>\n",
       "      <td>-1.671903</td>\n",
       "      <td>-1.187689</td>\n",
       "      <td>-1.127234</td>\n",
       "      <td>-1.045409</td>\n",
       "      <td>-0.106917</td>\n",
       "      <td>-1.198796</td>\n",
       "      <td>-1.190899</td>\n",
       "      <td>...</td>\n",
       "      <td>-0.436650</td>\n",
       "      <td>-1.274708</td>\n",
       "      <td>-0.681458</td>\n",
       "      <td>-0.876610</td>\n",
       "      <td>-0.624022</td>\n",
       "      <td>-0.431628</td>\n",
       "      <td>-1.435259</td>\n",
       "      <td>-0.671954</td>\n",
       "      <td>-1.013161</td>\n",
       "      <td>-0.969482</td>\n",
       "    </tr>\n",
       "    <tr>\n",
       "      <th>1</th>\n",
       "      <td>-1.235673</td>\n",
       "      <td>-1.275501</td>\n",
       "      <td>-1.184492</td>\n",
       "      <td>-1.596424</td>\n",
       "      <td>-1.335256</td>\n",
       "      <td>-1.113730</td>\n",
       "      <td>-0.800880</td>\n",
       "      <td>-0.745177</td>\n",
       "      <td>-0.849312</td>\n",
       "      <td>-1.190899</td>\n",
       "      <td>...</td>\n",
       "      <td>-0.915483</td>\n",
       "      <td>-1.354363</td>\n",
       "      <td>-0.653559</td>\n",
       "      <td>-1.096250</td>\n",
       "      <td>-1.066594</td>\n",
       "      <td>-1.335256</td>\n",
       "      <td>-1.204586</td>\n",
       "      <td>-0.751457</td>\n",
       "      <td>-0.889592</td>\n",
       "      <td>-1.080988</td>\n",
       "    </tr>\n",
       "    <tr>\n",
       "      <th>2</th>\n",
       "      <td>-0.333983</td>\n",
       "      <td>0.375927</td>\n",
       "      <td>-0.459196</td>\n",
       "      <td>-1.422571</td>\n",
       "      <td>-0.797493</td>\n",
       "      <td>-1.362768</td>\n",
       "      <td>-0.671954</td>\n",
       "      <td>-1.175674</td>\n",
       "      <td>0.320813</td>\n",
       "      <td>0.646610</td>\n",
       "      <td>...</td>\n",
       "      <td>-0.736156</td>\n",
       "      <td>-0.022153</td>\n",
       "      <td>-0.037455</td>\n",
       "      <td>-0.567335</td>\n",
       "      <td>-1.100749</td>\n",
       "      <td>-0.552938</td>\n",
       "      <td>-0.948874</td>\n",
       "      <td>-0.231657</td>\n",
       "      <td>-0.742163</td>\n",
       "      <td>-0.779500</td>\n",
       "    </tr>\n",
       "    <tr>\n",
       "      <th>3</th>\n",
       "      <td>0.488702</td>\n",
       "      <td>0.444011</td>\n",
       "      <td>0.436264</td>\n",
       "      <td>0.193353</td>\n",
       "      <td>0.235632</td>\n",
       "      <td>-0.360312</td>\n",
       "      <td>0.184941</td>\n",
       "      <td>0.425653</td>\n",
       "      <td>0.333983</td>\n",
       "      <td>0.235270</td>\n",
       "      <td>...</td>\n",
       "      <td>0.083781</td>\n",
       "      <td>0.356562</td>\n",
       "      <td>0.416241</td>\n",
       "      <td>0.533986</td>\n",
       "      <td>0.227505</td>\n",
       "      <td>0.416816</td>\n",
       "      <td>0.408202</td>\n",
       "      <td>0.326556</td>\n",
       "      <td>0.361813</td>\n",
       "      <td>0.298864</td>\n",
       "    </tr>\n",
       "    <tr>\n",
       "      <th>4</th>\n",
       "      <td>-1.300893</td>\n",
       "      <td>-1.229660</td>\n",
       "      <td>-1.325882</td>\n",
       "      <td>-1.818329</td>\n",
       "      <td>-1.311206</td>\n",
       "      <td>-1.513975</td>\n",
       "      <td>-1.651624</td>\n",
       "      <td>-1.339555</td>\n",
       "      <td>-0.593132</td>\n",
       "      <td>0.133302</td>\n",
       "      <td>...</td>\n",
       "      <td>-1.547444</td>\n",
       "      <td>-1.264475</td>\n",
       "      <td>-1.512318</td>\n",
       "      <td>-1.469583</td>\n",
       "      <td>-1.283472</td>\n",
       "      <td>-0.977672</td>\n",
       "      <td>-1.090178</td>\n",
       "      <td>-1.545120</td>\n",
       "      <td>-1.174272</td>\n",
       "      <td>-1.443183</td>\n",
       "    </tr>\n",
       "    <tr>\n",
       "      <th>...</th>\n",
       "      <td>...</td>\n",
       "      <td>...</td>\n",
       "      <td>...</td>\n",
       "      <td>...</td>\n",
       "      <td>...</td>\n",
       "      <td>...</td>\n",
       "      <td>...</td>\n",
       "      <td>...</td>\n",
       "      <td>...</td>\n",
       "      <td>...</td>\n",
       "      <td>...</td>\n",
       "      <td>...</td>\n",
       "      <td>...</td>\n",
       "      <td>...</td>\n",
       "      <td>...</td>\n",
       "      <td>...</td>\n",
       "      <td>...</td>\n",
       "      <td>...</td>\n",
       "      <td>...</td>\n",
       "      <td>...</td>\n",
       "      <td>...</td>\n",
       "    </tr>\n",
       "    <tr>\n",
       "      <th>7123</th>\n",
       "      <td>1.295992</td>\n",
       "      <td>-0.218494</td>\n",
       "      <td>1.132893</td>\n",
       "      <td>1.113077</td>\n",
       "      <td>0.719203</td>\n",
       "      <td>1.490610</td>\n",
       "      <td>0.483163</td>\n",
       "      <td>1.433292</td>\n",
       "      <td>0.737309</td>\n",
       "      <td>0.633018</td>\n",
       "      <td>...</td>\n",
       "      <td>1.097533</td>\n",
       "      <td>1.154533</td>\n",
       "      <td>1.401608</td>\n",
       "      <td>1.442685</td>\n",
       "      <td>1.097212</td>\n",
       "      <td>0.616776</td>\n",
       "      <td>0.904313</td>\n",
       "      <td>0.861478</td>\n",
       "      <td>1.183783</td>\n",
       "      <td>1.500833</td>\n",
       "    </tr>\n",
       "    <tr>\n",
       "      <th>7124</th>\n",
       "      <td>0.733853</td>\n",
       "      <td>0.378380</td>\n",
       "      <td>0.475669</td>\n",
       "      <td>0.148928</td>\n",
       "      <td>0.419502</td>\n",
       "      <td>1.000031</td>\n",
       "      <td>0.258833</td>\n",
       "      <td>-0.498831</td>\n",
       "      <td>-0.657700</td>\n",
       "      <td>-0.373663</td>\n",
       "      <td>...</td>\n",
       "      <td>0.496841</td>\n",
       "      <td>0.390495</td>\n",
       "      <td>0.379136</td>\n",
       "      <td>0.833781</td>\n",
       "      <td>0.298680</td>\n",
       "      <td>-0.161740</td>\n",
       "      <td>0.254654</td>\n",
       "      <td>0.558272</td>\n",
       "      <td>0.290234</td>\n",
       "      <td>0.159425</td>\n",
       "    </tr>\n",
       "    <tr>\n",
       "      <th>7125</th>\n",
       "      <td>-0.301622</td>\n",
       "      <td>-0.663166</td>\n",
       "      <td>-0.530138</td>\n",
       "      <td>-0.625945</td>\n",
       "      <td>-0.487514</td>\n",
       "      <td>-0.172972</td>\n",
       "      <td>-0.052590</td>\n",
       "      <td>-0.512817</td>\n",
       "      <td>-1.005845</td>\n",
       "      <td>-1.245923</td>\n",
       "      <td>...</td>\n",
       "      <td>-0.340496</td>\n",
       "      <td>-0.419886</td>\n",
       "      <td>-0.502218</td>\n",
       "      <td>-0.455682</td>\n",
       "      <td>-0.480793</td>\n",
       "      <td>-0.518640</td>\n",
       "      <td>-0.603435</td>\n",
       "      <td>-0.637751</td>\n",
       "      <td>-0.395623</td>\n",
       "      <td>-0.584142</td>\n",
       "    </tr>\n",
       "    <tr>\n",
       "      <th>7126</th>\n",
       "      <td>0.133657</td>\n",
       "      <td>-0.663166</td>\n",
       "      <td>1.566946</td>\n",
       "      <td>0.871972</td>\n",
       "      <td>0.358999</td>\n",
       "      <td>0.080430</td>\n",
       "      <td>0.029891</td>\n",
       "      <td>1.553879</td>\n",
       "      <td>-0.144841</td>\n",
       "      <td>0.129578</td>\n",
       "      <td>...</td>\n",
       "      <td>1.586444</td>\n",
       "      <td>0.216334</td>\n",
       "      <td>1.708574</td>\n",
       "      <td>1.710849</td>\n",
       "      <td>0.844280</td>\n",
       "      <td>1.771676</td>\n",
       "      <td>0.503216</td>\n",
       "      <td>0.079548</td>\n",
       "      <td>0.311388</td>\n",
       "      <td>0.793874</td>\n",
       "    </tr>\n",
       "    <tr>\n",
       "      <th>7127</th>\n",
       "      <td>-0.825596</td>\n",
       "      <td>-0.611045</td>\n",
       "      <td>-0.805978</td>\n",
       "      <td>-1.037246</td>\n",
       "      <td>-0.742858</td>\n",
       "      <td>-0.670192</td>\n",
       "      <td>-0.758939</td>\n",
       "      <td>-0.959684</td>\n",
       "      <td>-1.044802</td>\n",
       "      <td>-1.204950</td>\n",
       "      <td>...</td>\n",
       "      <td>-0.779262</td>\n",
       "      <td>-0.428349</td>\n",
       "      <td>-0.714884</td>\n",
       "      <td>-0.562798</td>\n",
       "      <td>-0.825843</td>\n",
       "      <td>-0.591665</td>\n",
       "      <td>-0.704030</td>\n",
       "      <td>-0.671954</td>\n",
       "      <td>-0.585602</td>\n",
       "      <td>-0.581017</td>\n",
       "    </tr>\n",
       "  </tbody>\n",
       "</table>\n",
       "<p>7128 rows × 72 columns</p>\n",
       "</div>"
      ],
      "text/plain": [
       "           ALL     ALL.1     ALL.2     ALL.3     ALL.4     ALL.5     ALL.6  \\\n",
       "0    -1.533622 -0.867610 -0.433172 -1.671903 -1.187689 -1.127234 -1.045409   \n",
       "1    -1.235673 -1.275501 -1.184492 -1.596424 -1.335256 -1.113730 -0.800880   \n",
       "2    -0.333983  0.375927 -0.459196 -1.422571 -0.797493 -1.362768 -0.671954   \n",
       "3     0.488702  0.444011  0.436264  0.193353  0.235632 -0.360312  0.184941   \n",
       "4    -1.300893 -1.229660 -1.325882 -1.818329 -1.311206 -1.513975 -1.651624   \n",
       "...        ...       ...       ...       ...       ...       ...       ...   \n",
       "7123  1.295992 -0.218494  1.132893  1.113077  0.719203  1.490610  0.483163   \n",
       "7124  0.733853  0.378380  0.475669  0.148928  0.419502  1.000031  0.258833   \n",
       "7125 -0.301622 -0.663166 -0.530138 -0.625945 -0.487514 -0.172972 -0.052590   \n",
       "7126  0.133657 -0.663166  1.566946  0.871972  0.358999  0.080430  0.029891   \n",
       "7127 -0.825596 -0.611045 -0.805978 -1.037246 -0.742858 -0.670192 -0.758939   \n",
       "\n",
       "         ALL.7     ALL.8     ALL.9  ...    AML.15    AML.16    AML.17  \\\n",
       "0    -0.106917 -1.198796 -1.190899  ... -0.436650 -1.274708 -0.681458   \n",
       "1    -0.745177 -0.849312 -1.190899  ... -0.915483 -1.354363 -0.653559   \n",
       "2    -1.175674  0.320813  0.646610  ... -0.736156 -0.022153 -0.037455   \n",
       "3     0.425653  0.333983  0.235270  ...  0.083781  0.356562  0.416241   \n",
       "4    -1.339555 -0.593132  0.133302  ... -1.547444 -1.264475 -1.512318   \n",
       "...        ...       ...       ...  ...       ...       ...       ...   \n",
       "7123  1.433292  0.737309  0.633018  ...  1.097533  1.154533  1.401608   \n",
       "7124 -0.498831 -0.657700 -0.373663  ...  0.496841  0.390495  0.379136   \n",
       "7125 -0.512817 -1.005845 -1.245923  ... -0.340496 -0.419886 -0.502218   \n",
       "7126  1.553879 -0.144841  0.129578  ...  1.586444  0.216334  1.708574   \n",
       "7127 -0.959684 -1.044802 -1.204950  ... -0.779262 -0.428349 -0.714884   \n",
       "\n",
       "        AML.18    AML.19    AML.20    AML.21    AML.22    AML.23    AML.24  \n",
       "0    -0.876610 -0.624022 -0.431628 -1.435259 -0.671954 -1.013161 -0.969482  \n",
       "1    -1.096250 -1.066594 -1.335256 -1.204586 -0.751457 -0.889592 -1.080988  \n",
       "2    -0.567335 -1.100749 -0.552938 -0.948874 -0.231657 -0.742163 -0.779500  \n",
       "3     0.533986  0.227505  0.416816  0.408202  0.326556  0.361813  0.298864  \n",
       "4    -1.469583 -1.283472 -0.977672 -1.090178 -1.545120 -1.174272 -1.443183  \n",
       "...        ...       ...       ...       ...       ...       ...       ...  \n",
       "7123  1.442685  1.097212  0.616776  0.904313  0.861478  1.183783  1.500833  \n",
       "7124  0.833781  0.298680 -0.161740  0.254654  0.558272  0.290234  0.159425  \n",
       "7125 -0.455682 -0.480793 -0.518640 -0.603435 -0.637751 -0.395623 -0.584142  \n",
       "7126  1.710849  0.844280  1.771676  0.503216  0.079548  0.311388  0.793874  \n",
       "7127 -0.562798 -0.825843 -0.591665 -0.704030 -0.671954 -0.585602 -0.581017  \n",
       "\n",
       "[7128 rows x 72 columns]"
      ]
     },
     "execution_count": 4,
     "metadata": {},
     "output_type": "execute_result"
    }
   ],
   "source": [
    "data"
   ]
  },
  {
   "cell_type": "code",
   "execution_count": 5,
   "metadata": {},
   "outputs": [],
   "source": [
    "ALL_columns = [c for c in data.columns if 'ALL' in c]\n",
    "AML_columns = [c for c in data.columns if 'AML' in c]\n",
    "ttest_df = pd.DataFrame(columns=['sampleId','ttest'])\n",
    "ttest ,pvalue = scipy.stats.ttest_ind(data.T.loc[ALL_columns], data.T.loc[AML_columns])\n",
    "ttest_df = pd.DataFrame([ttest, pvalue], index=['ttest', 'pvalue']).T\n",
    "select100 = ttest_df.sort_values('pvalue').iloc[:100].index\n",
    "X = data.iloc[select100].values\n",
    "np.random.seed(1234)"
   ]
  },
  {
   "cell_type": "code",
   "execution_count": 6,
   "metadata": {},
   "outputs": [],
   "source": [
    "gene_type = data.iloc[select100].T.reset_index().rename(columns={'index':'gene_type'})"
   ]
  },
  {
   "cell_type": "code",
   "execution_count": 7,
   "metadata": {},
   "outputs": [],
   "source": [
    "gene_type_true = np.argmax(pd.get_dummies(gene_type.gene_type.apply(lambda x: x.split('.')[0]))[['AML', 'ALL']].values, axis=1)"
   ]
  },
  {
   "cell_type": "code",
   "execution_count": 151,
   "metadata": {},
   "outputs": [],
   "source": [
    "class MFA:\n",
    "    def __init__(self, X, n_cluster=None, n_factor=None):\n",
    "        # mean_x = np.mean(X, axis=1, keepdims=True)\n",
    "        self.X = X\n",
    "        self.D, self.N = X.shape\n",
    "        # set hyper parameter\n",
    "        '''\n",
    "        n_factor : The number of latent value (q)\n",
    "        n_cluster : The number of cluster\n",
    "        '''\n",
    "        self.n_factor = n_factor\n",
    "        self.n_cluster = n_cluster\n",
    "        # E_step parameter\n",
    "        self.Es = None\n",
    "        self.Ess = None\n",
    "        self.Rjt = None\n",
    "        # M_step parameter\n",
    "        self.pi = None\n",
    "        self.mu = None\n",
    "        self.A = None\n",
    "        self.sigma = None\n",
    "\n",
    "    def _initializer(self):\n",
    "        self.mu = X.copy()\n",
    "        np.random.shuffle(self.mu)\n",
    "        self.mu = self.mu[:,:self.n_cluster].T.reshape(self.n_cluster, self.D, 1)\n",
    "        self.A = np.ones((self.n_cluster, self.D, self.n_factor))\n",
    "        self.pi = np.array([1] * self.n_cluster) / self.n_cluster  # (K,) array\n",
    "#         self.sigma = np.diag(np.arange(self.D) + 1 + np.exp(-700))\n",
    "        self.sigma = np.diag(np.diag(X.dot(X.T)))\n",
    "        self.cll = [np.inf]\n",
    "\n",
    "    def E_step(self):\n",
    "        Es = np.zeros((self.n_cluster, self.N, self.n_factor)) \n",
    "        Ess = np.zeros((self.n_cluster, self.N, self.n_factor, self.n_factor))\n",
    "        Rjt = np.zeros((self.n_cluster, self.N))\n",
    "        X_center = self.X - self.mu\n",
    "        for j in range(self.n_cluster):\n",
    "            Rjt[j] = self.pi[j] * multivariate_normal.pdf(self.X.T, self.mu[j].flatten(), self.A[j,:]@self.A[j,:].T + self.sigma + np.exp(-700))\n",
    "            phi = self.A[j,:].T @ np.linalg.inv(self.A[j,:] @ self.A[j,:].T + self.sigma) # phi\n",
    "        \n",
    "            Es[j] = (phi @ X_center[j]).T \n",
    "            for t in range(self.N):\n",
    "                Ess[j,t] = np.eye(self.n_factor) - phi @ self.A[j] + phi @ X_center[j,:, t].reshape(-1,1) @ X_center[j,:, t].reshape(-1,1).T @ phi.T\n",
    "        Rjt = Rjt/Rjt.sum(axis=0, keepdims=True)\n",
    "        self.Es, self.Ess, self.Rjt =  Es, Ess, Rjt\n",
    "\n",
    "    def M_step(self):\n",
    "        # new A\n",
    "        A_new = np.zeros(shape=(self.n_cluster, self.D, self.n_factor))\n",
    "        for j in range(self.n_cluster):\n",
    "            Aj1 = np.zeros(shape=(self.D, self.n_factor))\n",
    "            Aj2 = np.zeros(shape=(self.n_factor, self.n_factor))\n",
    "            for t in range(self.N):\n",
    "                Aj1 += self.Rjt[j,t] * ((self.X[:,t].reshape(-1,1) - self.mu[j]) @ self.Es[j,t].reshape(1,-1))\n",
    "                Aj2 += self.Rjt[j,t] * self.Ess[j,t]\n",
    "            A_new[j,:,:] = Aj1 @ np.linalg.inv(Aj2)\n",
    "        # new mu\n",
    "        mu_new = np.zeros(shape=(self.D, self.n_cluster))\n",
    "        for j in range(self.n_cluster):\n",
    "            temp_muj = np.zeros(shape=(self.D, 1))\n",
    "            for t in range(self.N):\n",
    "                temp_muj += self.Rjt[j,t]*((self.X[:,t].reshape(-1,1) - A_new[j,:,:] @ self.Es[j,t].reshape(-1,1)))\n",
    "            mu_new[:,j] = (temp_muj/self.Rjt[j,:].sum()).flatten()\n",
    "        mu_new = mu_new.T[:,:,np.newaxis]\n",
    "        # new sigma\n",
    "        sigma_new = np.zeros(shape=(self.D, self.D))\n",
    "        for j in range(self.n_cluster):\n",
    "            for t in range(self.N):\n",
    "                sigma_new += self.Rjt[j,t]*((self.X[:,t].reshape(-1,1) - mu_new[j]) @ (self.X[:,t].reshape(-1,1) - mu_new[j]).T - (A_new[j,:,:] @ self.Es[j,t].reshape(-1,1) @ (self.X[:,t].reshape(-1,1) - mu_new[j]).T))\n",
    "        sigma_new = (1/self.N)*np.diag(np.diag(sigma_new))\n",
    "        # new pi\n",
    "        pi_new = self.Rjt.mean(axis=1)\n",
    "        self.A, self.mu, self.sigma, self.pi =  A_new, mu_new, sigma_new, pi_new\n",
    "\n",
    "    def loss_function(self):\n",
    "        self.loss = 0\n",
    "        inv_sigma = np.linalg.inv(self.sigma)\n",
    "        for j in range(self.n_cluster):\n",
    "            for t in range(self.N):\n",
    "                loss_temp = np.log(self.pi[j]) - 0.5*(self.X[:,t] @ inv_sigma @ self.X[:,t] - 2 * self.X[:,t] @ inv_sigma @ self.A[j] @ self.Es[j, t] \\\n",
    "                                              -2 * self.X[:,t] @ inv_sigma @ self.mu[j].reshape(-1) + 2 * self.mu[j].reshape(-1) @ inv_sigma @ self.A[j]@ self.Es[j,t]\\\n",
    "                                              + np.matrix.trace(self.A[j].T @ inv_sigma @ self.A[j] @ self.Ess[j,t]) + self.mu[j].reshape(-1) @ inv_sigma @self.mu[j].reshape(-1))\n",
    "                det_sigma = np.linalg.det(self.sigma + np.exp(-700))\n",
    "                loss = self.Rjt[j,t]*(loss_temp - 0.5 * np.log(det_sigma) + (self.D/2)*np.log(2*np.pi))\n",
    "                self.loss += loss\n",
    "        # print(np.isnan(np.log(det_sigma)))\n",
    "        print(\"completed log-likelihood : \", self.loss)\n",
    "\n",
    "    def fit(self, max_iter=20, tol_el=1e-1):\n",
    "        iter_ = 0\n",
    "        self._initializer()\n",
    "        while iter_ < max_iter:\n",
    "            self.E_step()\n",
    "            self.M_step()\n",
    "            self.loss_function()\n",
    "            if abs(self.cll[-1] - self.loss) < tol_el:\n",
    "                print(\"old_loss : \", self.cll[-1])\n",
    "                print(\"new_loss : \", self.loss)\n",
    "                break\n",
    "            self.cll.append(self.loss)\n",
    "            iter_ += 1\n",
    "\n",
    "    def plot_loglikelihood(self):\n",
    "        plot_x = [-1*p for p in self.cll]\n",
    "        plt.plot(plot_x)\n",
    "        plt.show()"
   ]
  },
  {
   "cell_type": "code",
   "execution_count": 152,
   "metadata": {},
   "outputs": [],
   "source": [
    "def cluster_accuracy(true, cluster):\n",
    "    ca = np.sum(true == cluster) / cluster.shape[0]\n",
    "    return ca"
   ]
  },
  {
   "cell_type": "markdown",
   "metadata": {},
   "source": [
    "## m_factor = 2, n_cluster = 2"
   ]
  },
  {
   "cell_type": "code",
   "execution_count": 157,
   "metadata": {},
   "outputs": [
    {
     "name": "stdout",
     "output_type": "stream",
     "text": [
      "completed log-likelihood :  6146.13256034787\n",
      "completed log-likelihood :  9611.384496471772\n",
      "completed log-likelihood :  10614.281214445184\n",
      "completed log-likelihood :  10818.63395533029\n",
      "completed log-likelihood :  10995.873279736627\n",
      "completed log-likelihood :  11004.751505053013\n",
      "completed log-likelihood :  11004.805091735672\n",
      "old_loss :  11004.751505053013\n",
      "new_loss :  11004.805091735672\n"
     ]
    },
    {
     "data": {
      "image/png": "[encoded data removed]",
      "text/plain": [
       "<Figure size 432x288 with 1 Axes>"
      ]
     },
     "metadata": {
      "needs_background": "light"
     },
     "output_type": "display_data"
    }
   ],
   "source": [
    "mfa = MFA(X, 2, 2)\n",
    "mfa.fit()\n",
    "mfa.plot_loglikelihood()"
   ]
  },
  {
   "cell_type": "code",
   "execution_count": 158,
   "metadata": {},
   "outputs": [],
   "source": [
    "gene_type_cluster = np.argmax(mfa.Rjt.T, axis=1)"
   ]
  },
  {
   "cell_type": "code",
   "execution_count": 159,
   "metadata": {},
   "outputs": [
    {
     "data": {
      "text/plain": [
       "0.6944444444444444"
      ]
     },
     "execution_count": 159,
     "metadata": {},
     "output_type": "execute_result"
    }
   ],
   "source": [
    "cluster_accuracy(gene_type_true, gene_type_cluster)"
   ]
  },
  {
   "cell_type": "code",
   "execution_count": 160,
   "metadata": {},
   "outputs": [
    {
     "data": {
      "text/plain": [
       "(72, 100)"
      ]
     },
     "execution_count": 160,
     "metadata": {},
     "output_type": "execute_result"
    }
   ],
   "source": [
    "X.T.shape"
   ]
  },
  {
   "cell_type": "markdown",
   "metadata": {},
   "source": [
    "## n_cluster = 2, n_factor = 6"
   ]
  },
  {
   "cell_type": "code",
   "execution_count": 163,
   "metadata": {},
   "outputs": [
    {
     "name": "stdout",
     "output_type": "stream",
     "text": [
      "completed log-likelihood :  2229.503525634255\n",
      "completed log-likelihood :  9103.202219694098\n",
      "completed log-likelihood :  10111.834081512794\n",
      "completed log-likelihood :  10247.175146895326\n",
      "completed log-likelihood :  10283.946956300131\n",
      "completed log-likelihood :  10320.868746837788\n",
      "completed log-likelihood :  10361.170932488503\n",
      "completed log-likelihood :  10404.197150453336\n",
      "completed log-likelihood :  10448.949468168625\n",
      "completed log-likelihood :  10494.206208555524\n",
      "completed log-likelihood :  10538.67193981368\n",
      "completed log-likelihood :  10581.15406203381\n",
      "completed log-likelihood :  10625.925478917623\n",
      "completed log-likelihood :  10937.65155536637\n",
      "completed log-likelihood :  11517.489257512672\n",
      "completed log-likelihood :  11605.597391810492\n",
      "completed log-likelihood :  12064.35862455019\n",
      "completed log-likelihood :  12171.51370531973\n",
      "completed log-likelihood :  12199.124709149117\n",
      "completed log-likelihood :  12360.884657145196\n",
      "completed log-likelihood :  12657.565459186797\n",
      "completed log-likelihood :  12904.079834543272\n",
      "completed log-likelihood :  13101.72566489713\n",
      "completed log-likelihood :  13129.763692431336\n",
      "completed log-likelihood :  13138.2976257461\n",
      "completed log-likelihood :  13143.192780340478\n",
      "completed log-likelihood :  13146.585960442417\n",
      "completed log-likelihood :  13149.089028742006\n",
      "completed log-likelihood :  13150.997772180463\n",
      "completed log-likelihood :  13152.48808953023\n",
      "completed log-likelihood :  13153.674344972535\n",
      "completed log-likelihood :  13154.634632951414\n",
      "completed log-likelihood :  13155.42397483012\n",
      "completed log-likelihood :  13156.082000479275\n",
      "completed log-likelihood :  13156.63774932256\n",
      "completed log-likelihood :  13157.112809750157\n",
      "completed log-likelihood :  13157.5234443228\n",
      "completed log-likelihood :  13157.882055577264\n",
      "completed log-likelihood :  13158.198214874015\n",
      "completed log-likelihood :  13158.479392870586\n",
      "completed log-likelihood :  13158.731486613251\n",
      "completed log-likelihood :  13158.959197954633\n",
      "completed log-likelihood :  13159.166313984317\n",
      "completed log-likelihood :  13159.3559128064\n",
      "completed log-likelihood :  13159.530516674959\n",
      "completed log-likelihood :  13159.692208880238\n",
      "completed log-likelihood :  13159.842721314133\n",
      "completed log-likelihood :  13159.983502399511\n",
      "completed log-likelihood :  13160.115769931388\n",
      "completed log-likelihood :  13160.240551988567\n"
     ]
    }
   ],
   "source": [
    "mfa2 = MFA(X, n_cluster=2, n_factor=6)\n",
    "mfa2.fit(max_iter=50)"
   ]
  },
  {
   "cell_type": "code",
   "execution_count": 164,
   "metadata": {},
   "outputs": [
    {
     "data": {
      "image/png": "[encoded data removed]",
      "text/plain": [
       "<Figure size 432x288 with 1 Axes>"
      ]
     },
     "metadata": {
      "needs_background": "light"
     },
     "output_type": "display_data"
    }
   ],
   "source": [
    "mfa2.plot_loglikelihood()"
   ]
  },
  {
   "cell_type": "code",
   "execution_count": 165,
   "metadata": {},
   "outputs": [
    {
     "data": {
      "text/plain": [
       "(2, 72)"
      ]
     },
     "execution_count": 165,
     "metadata": {},
     "output_type": "execute_result"
    }
   ],
   "source": [
    "mfa2.Rjt.shape"
   ]
  },
  {
   "cell_type": "code",
   "execution_count": 168,
   "metadata": {},
   "outputs": [],
   "source": [
    "gene_type_cluster2 = np.argmin(mfa2.Rjt.T, axis=1)"
   ]
  },
  {
   "cell_type": "code",
   "execution_count": 169,
   "metadata": {},
   "outputs": [
    {
     "data": {
      "text/plain": [
       "0.9861111111111112"
      ]
     },
     "execution_count": 169,
     "metadata": {},
     "output_type": "execute_result"
    }
   ],
   "source": [
    "cluster_accuracy(gene_type_true, gene_type_cluster2)"
   ]
  },
  {
   "cell_type": "markdown",
   "metadata": {},
   "source": [
    "## n_factor = 4, n_cluster = 6"
   ]
  },
  {
   "cell_type": "code",
   "execution_count": 172,
   "metadata": {},
   "outputs": [
    {
     "name": "stdout",
     "output_type": "stream",
     "text": [
      "completed log-likelihood :  5052.733034704588\n",
      "completed log-likelihood :  9286.828338609343\n",
      "completed log-likelihood :  10762.863649850664\n",
      "completed log-likelihood :  11123.998268907386\n",
      "completed log-likelihood :  11376.090624819597\n",
      "completed log-likelihood :  11448.784470852734\n",
      "completed log-likelihood :  11505.214631973568\n",
      "completed log-likelihood :  11560.08551660415\n",
      "completed log-likelihood :  11609.931915215699\n",
      "completed log-likelihood :  11653.143027735463\n",
      "completed log-likelihood :  11690.090979148103\n",
      "completed log-likelihood :  11722.669855225166\n",
      "completed log-likelihood :  11856.408937807875\n",
      "completed log-likelihood :  12463.655456714407\n",
      "completed log-likelihood :  12947.291198515979\n",
      "completed log-likelihood :  13690.183103829557\n",
      "completed log-likelihood :  14011.62642667351\n",
      "completed log-likelihood :  14176.625133838585\n",
      "completed log-likelihood :  14331.060020647823\n",
      "completed log-likelihood :  14415.468718679793\n",
      "completed log-likelihood :  14437.824243310486\n",
      "completed log-likelihood :  14453.576603374053\n",
      "completed log-likelihood :  14466.58359005272\n",
      "completed log-likelihood :  14477.509188487875\n",
      "completed log-likelihood :  14486.693806700921\n",
      "completed log-likelihood :  14494.39840514961\n",
      "completed log-likelihood :  14500.843054100147\n",
      "completed log-likelihood :  14506.218066678042\n",
      "completed log-likelihood :  14510.688780574057\n",
      "completed log-likelihood :  14514.398368458247\n",
      "completed log-likelihood :  14517.470062170305\n",
      "completed log-likelihood :  14520.009193255137\n",
      "completed log-likelihood :  14522.105190745653\n",
      "completed log-likelihood :  14523.833529436864\n",
      "completed log-likelihood :  14525.257565080461\n",
      "completed log-likelihood :  14526.430248009941\n",
      "completed log-likelihood :  14527.395650581431\n",
      "completed log-likelihood :  14528.190352435655\n",
      "completed log-likelihood :  14528.844628108154\n",
      "completed log-likelihood :  14529.383478931097\n",
      "completed log-likelihood :  14529.827512584507\n",
      "completed log-likelihood :  14530.193694189154\n",
      "completed log-likelihood :  14530.495973185381\n",
      "completed log-likelihood :  14530.745803780943\n",
      "completed log-likelihood :  14530.952590710687\n",
      "completed log-likelihood :  14531.12404362967\n",
      "completed log-likelihood :  14531.266485905959\n",
      "completed log-likelihood :  14531.385098797164\n",
      "completed log-likelihood :  14531.48412634791\n",
      "old_loss :  14531.385098797164\n",
      "new_loss :  14531.48412634791\n"
     ]
    }
   ],
   "source": [
    "mfa3 = MFA(X, 6, 4)\n",
    "mfa3.fit(max_iter=60)"
   ]
  },
  {
   "cell_type": "code",
   "execution_count": 173,
   "metadata": {},
   "outputs": [
    {
     "data": {
      "image/png": "[encoded data removed]",
      "text/plain": [
       "<Figure size 432x288 with 1 Axes>"
      ]
     },
     "metadata": {
      "needs_background": "light"
     },
     "output_type": "display_data"
    }
   ],
   "source": [
    "mfa3.plot_loglikelihood()"
   ]
  },
  {
   "cell_type": "code",
   "execution_count": null,
   "metadata": {},
   "outputs": [],
   "source": []
  }
 ],
 "metadata": {
  "kernelspec": {
   "display_name": "Python 3",
   "language": "python",
   "name": "python3"
  },
  "language_info": {
   "codemirror_mode": {
    "name": "ipython",
    "version": 3
   },
   "file_extension": ".py",
   "mimetype": "text/x-python",
   "name": "python",
   "nbconvert_exporter": "python",
   "pygments_lexer": "ipython3",
   "version": "3.6.9"
  }
 },
 "nbformat": 4,
 "nbformat_minor": 4
}
