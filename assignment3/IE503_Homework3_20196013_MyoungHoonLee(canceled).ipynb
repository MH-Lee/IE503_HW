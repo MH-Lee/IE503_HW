{
 "cells": [
  {
   "cell_type": "code",
   "execution_count": 1,
   "metadata": {},
   "outputs": [
    {
     "data": {
      "text/plain": [
       "(7128, 72)"
      ]
     },
     "execution_count": 1,
     "metadata": {},
     "output_type": "execute_result"
    }
   ],
   "source": [
    "import numpy as np\n",
    "import pandas as pd\n",
    "import scipy\n",
    "import matplotlib.pyplot as plt\n",
    "from tqdm import tqdm\n",
    "from scipy.stats import multivariate_normal\n",
    "\n",
    "data = pd.read_csv('./data/leukemia_big.csv')\n",
    "data.shape"
   ]
  },
  {
   "cell_type": "markdown",
   "metadata": {},
   "source": [
    "## Load MFA Model"
   ]
  },
  {
   "cell_type": "code",
   "execution_count": 3,
   "metadata": {},
   "outputs": [],
   "source": [
    "from module.MFA import MFA"
   ]
  },
  {
   "cell_type": "markdown",
   "metadata": {},
   "source": [
    "## T-test & select feature"
   ]
  },
  {
   "cell_type": "markdown",
   "metadata": {},
   "source": [
    "+ The data was divided into AML samples and ALL samples, and T-test was conducted and each was conducted.\n",
    "+ As a result of the T test, MFA was performed by selecting 100 variables with a significant difference between the mean value of the AML sample and the ALL sample."
   ]
  },
  {
   "cell_type": "code",
   "execution_count": 4,
   "metadata": {},
   "outputs": [],
   "source": [
    "ALL_columns = [c for c in data.columns if 'ALL' in c]\n",
    "AML_columns = [c for c in data.columns if 'AML' in c]\n",
    "ttest_df = pd.DataFrame(columns=['sampleId','ttest'])\n",
    "ttest ,pvalue = scipy.stats.ttest_ind(data.T.loc[ALL_columns], data.T.loc[AML_columns])\n",
    "ttest_df = pd.DataFrame([ttest, pvalue], index=['ttest', 'pvalue']).T\n",
    "select100 = ttest_df.sort_values('pvalue').iloc[:100].index\n",
    "X = data.iloc[select100].values\n",
    "np.random.seed(1234)"
   ]
  },
  {
   "cell_type": "code",
   "execution_count": 18,
   "metadata": {},
   "outputs": [],
   "source": [
    "gene_type = data.iloc[select100].T.reset_index().rename(columns={'index':'gene_type'})"
   ]
  },
  {
   "cell_type": "code",
   "execution_count": 19,
   "metadata": {},
   "outputs": [],
   "source": [
    "gene_type_true = np.argmax(pd.get_dummies(gene_type.gene_type.apply(lambda x: x.split('.')[0]))[['AML', 'ALL']].values, axis=1)"
   ]
  },
  {
   "cell_type": "code",
   "execution_count": 20,
   "metadata": {},
   "outputs": [],
   "source": [
    "def cluster_accuracy(true, cluster):\n",
    "    ca = np.sum(true == cluster) / cluster.shape[0]\n",
    "    return ca"
   ]
  },
  {
   "cell_type": "markdown",
   "metadata": {},
   "source": [
    "## Run MFA code"
   ]
  },
  {
   "cell_type": "markdown",
   "metadata": {},
   "source": [
    "+ The experiment was conducted by determining the dimension of the latent feature and the number of mixtures as follows.\n",
    "    - n_factor = 2, n_cluster = 2\n",
    "    - n_factor = 2, n_cluster = 6\n",
    "    - n_factor = 4, n_cluster = 6\n",
    "\n",
    "\n",
    "+ In all three experiments, it was confirmed that the completed log-likelihood converged."
   ]
  },
  {
   "cell_type": "markdown",
   "metadata": {},
   "source": [
    "### m_factor = 2, n_cluster = 2"
   ]
  },
  {
   "cell_type": "code",
   "execution_count": 73,
   "metadata": {},
   "outputs": [
    {
     "name": "stdout",
     "output_type": "stream",
     "text": [
      "completed log-likelihood :  7950.909741754495\n",
      "completed log-likelihood :  9996.523452025713\n",
      "completed log-likelihood :  10049.644627786403\n",
      "completed log-likelihood :  10078.44182257729\n",
      "completed log-likelihood :  10084.130491930255\n",
      "completed log-likelihood :  10084.105214946538\n",
      "old_loss :  10084.130491930255\n",
      "new_loss :  10084.105214946538\n"
     ]
    }
   ],
   "source": [
    "mfa1 = MFA(X, 2, 2)\n",
    "mfa1.fit(tol_el=1e-1)"
   ]
  },
  {
   "cell_type": "code",
   "execution_count": 74,
   "metadata": {},
   "outputs": [
    {
     "data": {
      "image/png": "[encoded data removed]",
      "text/plain": [
       "<Figure size 432x288 with 1 Axes>"
      ]
     },
     "metadata": {
      "needs_background": "light"
     },
     "output_type": "display_data"
    }
   ],
   "source": [
    "mfa1.plot_loglikelihood()"
   ]
  },
  {
   "cell_type": "markdown",
   "metadata": {},
   "source": [
    "### n_cluster = 2, n_factor = 6"
   ]
  },
  {
   "cell_type": "code",
   "execution_count": 75,
   "metadata": {},
   "outputs": [
    {
     "name": "stdout",
     "output_type": "stream",
     "text": [
      "completed log-likelihood :  7982.058512615096\n",
      "completed log-likelihood :  10010.074462092443\n",
      "completed log-likelihood :  10060.441810694045\n",
      "completed log-likelihood :  10082.681953050767\n",
      "completed log-likelihood :  10084.208363625614\n",
      "completed log-likelihood :  10083.715723102783\n",
      "completed log-likelihood :  10083.867665176596\n",
      "completed log-likelihood :  10083.575092970492\n",
      "completed log-likelihood :  10083.682886925244\n",
      "completed log-likelihood :  10083.489249420683\n",
      "completed log-likelihood :  10083.570191746061\n",
      "old_loss :  10083.489249420683\n",
      "new_loss :  10083.570191746061\n"
     ]
    }
   ],
   "source": [
    "mfa2 = MFA(X, 2, 6)\n",
    "mfa2.fit(tol_el=1e-1)"
   ]
  },
  {
   "cell_type": "code",
   "execution_count": 76,
   "metadata": {},
   "outputs": [
    {
     "data": {
      "image/png": "[encoded data removed]",
      "text/plain": [
       "<Figure size 432x288 with 1 Axes>"
      ]
     },
     "metadata": {
      "needs_background": "light"
     },
     "output_type": "display_data"
    }
   ],
   "source": [
    "mfa2.plot_loglikelihood()"
   ]
  },
  {
   "cell_type": "markdown",
   "metadata": {},
   "source": [
    "### n_cluster = 3, n_factor = 2"
   ]
  },
  {
   "cell_type": "code",
   "execution_count": 138,
   "metadata": {},
   "outputs": [
    {
     "name": "stdout",
     "output_type": "stream",
     "text": [
      "completed log-likelihood :  8874.297363291578\n",
      "completed log-likelihood :  10282.418340823879\n",
      "completed log-likelihood :  10347.093257647586\n",
      "completed log-likelihood :  10365.29696066877\n",
      "completed log-likelihood :  10367.434757045601\n",
      "completed log-likelihood :  10368.496828052635\n",
      "completed log-likelihood :  10371.014928953988\n",
      "completed log-likelihood :  10380.198363836042\n",
      "completed log-likelihood :  10382.892871117665\n",
      "completed log-likelihood :  10383.423343617784\n",
      "completed log-likelihood :  10383.736749472953\n",
      "completed log-likelihood :  10383.327773972622\n",
      "completed log-likelihood :  10387.819258937947\n",
      "completed log-likelihood :  10386.786949525886\n",
      "completed log-likelihood :  10393.526820755613\n",
      "completed log-likelihood :  10458.86010058103\n",
      "completed log-likelihood :  10501.671919932282\n",
      "completed log-likelihood :  10514.670336391682\n",
      "completed log-likelihood :  10526.699258282279\n",
      "completed log-likelihood :  10531.20637358525\n"
     ]
    }
   ],
   "source": [
    "mfa3 = MFA(X, 3, 2)\n",
    "mfa3.fit(tol_el=1e-1)"
   ]
  },
  {
   "cell_type": "code",
   "execution_count": 139,
   "metadata": {},
   "outputs": [
    {
     "data": {
      "image/png": "[encoded data removed]",
      "text/plain": [
       "<Figure size 432x288 with 1 Axes>"
      ]
     },
     "metadata": {
      "needs_background": "light"
     },
     "output_type": "display_data"
    }
   ],
   "source": [
    "mfa3.plot_loglikelihood()"
   ]
  },
  {
   "cell_type": "code",
   "execution_count": 140,
   "metadata": {},
   "outputs": [
    {
     "data": {
      "text/plain": [
       "array([1, 1, 1, 1, 1, 1, 1, 1, 1, 1, 1, 1, 1, 1, 1, 1, 0, 1, 1, 1, 2, 2,\n",
       "       2, 2, 2, 2, 2, 2, 2, 2, 0, 2, 2, 2, 1, 0, 0, 1, 1, 0, 1, 1, 0, 0,\n",
       "       0, 0, 1, 0, 1, 1, 0, 1, 1, 1, 1, 1, 0, 1, 1, 1, 1, 2, 2, 2, 2, 2,\n",
       "       2, 2, 2, 2, 2, 2])"
      ]
     },
     "execution_count": 140,
     "metadata": {},
     "output_type": "execute_result"
    }
   ],
   "source": [
    "np.argmax(mfa3.Rjt.T.round(), axis=1)"
   ]
  },
  {
   "cell_type": "markdown",
   "metadata": {},
   "source": [
    "### n_factor = 4, n_cluster = 6"
   ]
  },
  {
   "cell_type": "code",
   "execution_count": 109,
   "metadata": {},
   "outputs": [
    {
     "name": "stdout",
     "output_type": "stream",
     "text": [
      "completed log-likelihood :  8061.06886490535\n",
      "completed log-likelihood :  10291.31296111853\n",
      "completed log-likelihood :  10583.20857308309\n",
      "completed log-likelihood :  10785.311302743645\n",
      "completed log-likelihood :  10826.706129128752\n",
      "completed log-likelihood :  10826.213430368516\n",
      "completed log-likelihood :  10826.026148929965\n",
      "completed log-likelihood :  10826.04370589803\n",
      "old_loss :  10826.026148929965\n",
      "new_loss :  10826.04370589803\n"
     ]
    }
   ],
   "source": [
    "mfa4 = MFA(X, 6, 4)\n",
    "mfa4.fit()"
   ]
  },
  {
   "cell_type": "code",
   "execution_count": 110,
   "metadata": {},
   "outputs": [
    {
     "data": {
      "image/png": "[encoded data removed]",
      "text/plain": [
       "<Figure size 432x288 with 1 Axes>"
      ]
     },
     "metadata": {
      "needs_background": "light"
     },
     "output_type": "display_data"
    }
   ],
   "source": [
    "mfa4.plot_loglikelihood()"
   ]
  },
  {
   "cell_type": "code",
   "execution_count": 137,
   "metadata": {},
   "outputs": [
    {
     "data": {
      "text/plain": [
       "array([3, 1, 3, 3, 3, 3, 3, 3, 3, 3, 3, 3, 3, 3, 3, 3, 0, 3, 3, 3, 5, 5,\n",
       "       5, 5, 5, 5, 5, 5, 5, 5, 4, 5, 5, 5, 3, 1, 1, 3, 3, 1, 3, 3, 1, 1,\n",
       "       1, 2, 3, 1, 3, 3, 1, 3, 3, 3, 3, 3, 1, 3, 3, 3, 3, 5, 5, 5, 5, 5,\n",
       "       0, 5, 5, 5, 0, 5])"
      ]
     },
     "execution_count": 137,
     "metadata": {},
     "output_type": "execute_result"
    }
   ],
   "source": [
    "np.argmax(mfa4.Rjt.T.round(), axis=1)"
   ]
  },
  {
   "cell_type": "markdown",
   "metadata": {},
   "source": [
    "## MFA inferece"
   ]
  },
  {
   "cell_type": "markdown",
   "metadata": {},
   "source": [
    "+ To compare the performance of MFA, we checked how well AML and ALL samples were clustered when the number of mixture was set to two.\n",
    "+ When comparing the experimental results with 2 and 6 Latent features set, it can be seen that clustering was performed well except for 1 sample in all."
   ]
  },
  {
   "cell_type": "code",
   "execution_count": 92,
   "metadata": {},
   "outputs": [],
   "source": [
    "gene_type_cluster = np.argmin(mfa1.Rjt.T, axis=1)"
   ]
  },
  {
   "cell_type": "code",
   "execution_count": 93,
   "metadata": {},
   "outputs": [
    {
     "data": {
      "text/plain": [
       "0.9861111111111112"
      ]
     },
     "execution_count": 93,
     "metadata": {},
     "output_type": "execute_result"
    }
   ],
   "source": [
    "cluster_accuracy(gene_type_true, gene_type_cluster)"
   ]
  },
  {
   "cell_type": "code",
   "execution_count": 94,
   "metadata": {},
   "outputs": [],
   "source": [
    "gene_type_cluster2 = np.argmin(mfa2.Rjt.T, axis=1)"
   ]
  },
  {
   "cell_type": "code",
   "execution_count": 95,
   "metadata": {},
   "outputs": [
    {
     "data": {
      "text/plain": [
       "0.9861111111111112"
      ]
     },
     "execution_count": 95,
     "metadata": {},
     "output_type": "execute_result"
    }
   ],
   "source": [
    "cluster_accuracy(gene_type_true, gene_type_cluster2)"
   ]
  },
  {
   "cell_type": "markdown",
   "metadata": {},
   "source": [
    "## Mixture = 2 visualization"
   ]
  },
  {
   "cell_type": "markdown",
   "metadata": {},
   "source": [
    "+ In order to make a scatter plot, the visualization was performed with two latent features."
   ]
  },
  {
   "cell_type": "code",
   "execution_count": 148,
   "metadata": {},
   "outputs": [],
   "source": [
    "valid_data = np.concatenate([mfa1.X, gene_type_cluster.reshape(1,-1), gene_type_true.reshape(1, -1)], axis=0)\n",
    "X_cluster_0 = valid_data[:, np.where(gene_type_cluster == 0)[0]]\n",
    "X_cluster_1 = valid_data[:, np.where(gene_type_cluster == 1)[0]]\n",
    "y_cluster = np.concatenate([X_cluster_0[100,:], X_cluster_1[100,:]])\n",
    "y_true = np.concatenate([X_cluster_0[101,:], X_cluster_1[101,:]])"
   ]
  },
  {
   "cell_type": "code",
   "execution_count": 149,
   "metadata": {},
   "outputs": [],
   "source": [
    "dim_reduction_c0 = (np.linalg.inv(mfa1.A[0].T @ mfa1.A[0]) @ mfa1.A[0].T) @ (X_cluster_0[:100,:] - mfa1.mu[0])\n",
    "dim_reduction_c1 = (np.linalg.inv(mfa1.A[1].T @ mfa1.A[1]) @ mfa1.A[1].T) @ (X_cluster_1[:100,:] - mfa1.mu[1])"
   ]
  },
  {
   "cell_type": "code",
   "execution_count": 150,
   "metadata": {},
   "outputs": [],
   "source": [
    "dimre_X = np.concatenate([dim_reduction_c0, dim_reduction_c1], axis=1)\n",
    "dimre_X = np.concatenate([dimre_X, y_true.reshape(1,-1), y_cluster.reshape(1,-1)], axis=0)"
   ]
  },
  {
   "cell_type": "markdown",
   "metadata": {},
   "source": [
    "+ It was confirmed that cluster2 was concentrated on one side.\n",
    "+ Looking at the plot, It can be seen that the clusters are similar to the actual values."
   ]
  },
  {
   "cell_type": "code",
   "execution_count": 183,
   "metadata": {},
   "outputs": [
    {
     "data": {
      "image/png": "[encoded data removed]",
      "text/plain": [
       "<Figure size 1440x504 with 2 Axes>"
      ]
     },
     "metadata": {
      "needs_background": "light"
     },
     "output_type": "display_data"
    }
   ],
   "source": [
    "# fig = plt.figure(figsize=(15,10))\n",
    "fig, axes = plt.subplots(nrows=1, ncols=2, figsize=(20,7))\n",
    "axes[0].scatter(dimre_X.T[np.where(dimre_X.T[:,2]==1), 0], dimre_X.T[np.where(dimre_X.T[:,2]==1), 1])\n",
    "axes[0].scatter(dimre_X.T[np.where(dimre_X.T[:,2]==0), 0], dimre_X.T[np.where(dimre_X.T[:,2]==0), 1])\n",
    "axes[1].scatter(dimre_X.T[np.where(dimre_X.T[:,3]==1), 0], dimre_X.T[np.where(dimre_X.T[:,3]==1), 1])\n",
    "axes[1].scatter(dimre_X.T[np.where(dimre_X.T[:,3]==0), 0], dimre_X.T[np.where(dimre_X.T[:,3]==0), 1])\n",
    "axes[0].set_title(\"MFA Cluster(K=2) Resutls\")\n",
    "axes[1].set_title(\"MFA True\")\n",
    "axes[0].legend(labels=[0,1])\n",
    "axes[1].legend(labels=[0,1])\n",
    "plt.show()"
   ]
  }
 ],
 "metadata": {
  "kernelspec": {
   "display_name": "Python 3",
   "language": "python",
   "name": "python3"
  },
  "language_info": {
   "codemirror_mode": {
    "name": "ipython",
    "version": 3
   },
   "file_extension": ".py",
   "mimetype": "text/x-python",
   "name": "python",
   "nbconvert_exporter": "python",
   "pygments_lexer": "ipython3",
   "version": "3.6.9"
  }
 },
 "nbformat": 4,
 "nbformat_minor": 4
}
