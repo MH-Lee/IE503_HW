{
 "cells": [
  {
   "cell_type": "code",
   "execution_count": 56,
   "metadata": {},
   "outputs": [
    {
     "data": {
      "text/plain": [
       "(7128, 72)"
      ]
     },
     "execution_count": 56,
     "metadata": {},
     "output_type": "execute_result"
    }
   ],
   "source": [
    "import numpy as np\n",
    "import pandas as pd\n",
    "import scipy\n",
    "import matplotlib.pyplot as plt\n",
    "from tqdm import tqdm\n",
    "from scipy.stats import multivariate_normal\n",
    "\n",
    "data = pd.read_csv('./data/leukemia_big.csv')\n",
    "data.shape"
   ]
  },
  {
   "cell_type": "code",
   "execution_count": 57,
   "metadata": {},
   "outputs": [
    {
     "data": {
      "text/plain": [
       "'/data/notebook/mfa'"
      ]
     },
     "execution_count": 57,
     "metadata": {},
     "output_type": "execute_result"
    }
   ],
   "source": [
    "import os\n",
    "os.getcwd()"
   ]
  },
  {
   "cell_type": "code",
   "execution_count": 58,
   "metadata": {},
   "outputs": [],
   "source": [
    "from module.MFA2 import MFA"
   ]
  },
  {
   "cell_type": "markdown",
   "metadata": {},
   "source": [
    "## T-test"
   ]
  },
  {
   "cell_type": "code",
   "execution_count": 59,
   "metadata": {},
   "outputs": [],
   "source": [
    "ALL_columns = [c for c in data.columns if 'ALL' in c]\n",
    "AML_columns = [c for c in data.columns if 'AML' in c]\n",
    "ttest_df = pd.DataFrame(columns=['sampleId','ttest'])\n",
    "ttest ,pvalue = scipy.stats.ttest_ind(data.T.loc[ALL_columns], data.T.loc[AML_columns])\n",
    "ttest_df = pd.DataFrame([ttest, pvalue], index=['ttest', 'pvalue']).T\n",
    "select100 = ttest_df.sort_values('pvalue').iloc[:100].index\n",
    "X = data.iloc[select100].values\n",
    "np.random.seed(1234)"
   ]
  },
  {
   "cell_type": "code",
   "execution_count": 60,
   "metadata": {},
   "outputs": [],
   "source": [
    "gene_type = data.iloc[select100].T.reset_index().rename(columns={'index':'gene_type'})"
   ]
  },
  {
   "cell_type": "code",
   "execution_count": 61,
   "metadata": {},
   "outputs": [],
   "source": [
    "gene_type_true = np.argmax(pd.get_dummies(gene_type.gene_type.apply(lambda x: x.split('.')[0]))[['AML', 'ALL']].values, axis=1)"
   ]
  },
  {
   "cell_type": "markdown",
   "metadata": {},
   "source": [
    "## Cluster Accuracy"
   ]
  },
  {
   "cell_type": "code",
   "execution_count": 64,
   "metadata": {},
   "outputs": [],
   "source": [
    "def cluster_accuracy(true, cluster):\n",
    "    ca = np.sum(true == cluster) / cluster.shape[0]\n",
    "    return ca"
   ]
  },
  {
   "cell_type": "markdown",
   "metadata": {},
   "source": [
    "## m_factor = 2, n_cluster = 2"
   ]
  },
  {
   "cell_type": "code",
   "execution_count": 96,
   "metadata": {},
   "outputs": [
    {
     "name": "stdout",
     "output_type": "stream",
     "text": [
      "completed log-likelihood :  4287.393481867767\n",
      "completed log-likelihood :  8342.835017740152\n",
      "completed log-likelihood :  10122.639310800056\n",
      "completed log-likelihood :  10422.37047924953\n",
      "completed log-likelihood :  10484.318193737136\n",
      "completed log-likelihood :  10542.738900817994\n",
      "completed log-likelihood :  10601.322205145001\n",
      "completed log-likelihood :  10650.64108335115\n",
      "completed log-likelihood :  10690.023309236149\n",
      "completed log-likelihood :  10721.257876777807\n",
      "completed log-likelihood :  10746.219986261713\n",
      "completed log-likelihood :  10766.502490091287\n",
      "completed log-likelihood :  10784.88196396034\n",
      "completed log-likelihood :  10988.264918708268\n",
      "completed log-likelihood :  11076.102131070598\n",
      "completed log-likelihood :  11420.171246446243\n",
      "completed log-likelihood :  11481.343144934177\n",
      "completed log-likelihood :  11493.052620503615\n",
      "completed log-likelihood :  11500.318664984621\n",
      "completed log-likelihood :  11505.93055795109\n",
      "completed log-likelihood :  11510.39504893509\n",
      "completed log-likelihood :  11513.972574826004\n",
      "completed log-likelihood :  11516.84667847332\n",
      "completed log-likelihood :  11519.158274327505\n",
      "completed log-likelihood :  11521.018755780686\n",
      "completed log-likelihood :  11522.517151606813\n",
      "completed log-likelihood :  11523.72489060547\n",
      "completed log-likelihood :  11524.69933051136\n",
      "completed log-likelihood :  11525.486513055865\n",
      "completed log-likelihood :  11526.123367917959\n",
      "completed log-likelihood :  11526.639492126575\n",
      "completed log-likelihood :  11527.058590372737\n",
      "completed log-likelihood :  11527.399640195343\n",
      "completed log-likelihood :  11527.677832444515\n",
      "completed log-likelihood :  11527.905328348952\n",
      "completed log-likelihood :  11528.091867943629\n",
      "completed log-likelihood :  11528.245257323577\n",
      "completed log-likelihood :  11528.371758730473\n",
      "completed log-likelihood :  11528.476401753407\n",
      "completed log-likelihood :  11528.563231882397\n",
      "completed log-likelihood :  11528.635508363172\n",
      "completed log-likelihood :  11528.695861899774\n",
      "completed log-likelihood :  11528.746420205815\n",
      "completed log-likelihood :  11528.788907980803\n",
      "completed log-likelihood :  11528.824726453911\n",
      "completed log-likelihood :  11528.855016950107\n",
      "completed log-likelihood :  11528.880711356327\n",
      "completed log-likelihood :  11528.902572657254\n",
      "completed log-likelihood :  11528.921227087721\n",
      "completed log-likelihood :  11528.937190087861\n"
     ]
    },
    {
     "data": {
      "image/png": "[encoded data removed]",
      "text/plain": [
       "<Figure size 432x288 with 1 Axes>"
      ]
     },
     "metadata": {
      "needs_background": "light"
     },
     "output_type": "display_data"
    }
   ],
   "source": [
    "mfa = MFA(X, 2, 2)\n",
    "mfa.fit(max_iter=50, tol_el=1e-2)\n",
    "mfa.plot_loglikelihood()"
   ]
  },
  {
   "cell_type": "markdown",
   "metadata": {},
   "source": [
    "## n_cluster = 2, n_factor = 6"
   ]
  },
  {
   "cell_type": "code",
   "execution_count": 97,
   "metadata": {},
   "outputs": [
    {
     "name": "stdout",
     "output_type": "stream",
     "text": [
      "completed log-likelihood :  4723.403708087256\n",
      "completed log-likelihood :  8724.910346407536\n",
      "completed log-likelihood :  10362.882684055754\n",
      "completed log-likelihood :  10500.094756333772\n",
      "completed log-likelihood :  10573.882312959624\n",
      "completed log-likelihood :  10647.48604748762\n",
      "completed log-likelihood :  10700.90617597624\n",
      "completed log-likelihood :  10740.498704995078\n",
      "completed log-likelihood :  10770.46185888394\n",
      "completed log-likelihood :  10793.504752016059\n",
      "completed log-likelihood :  10811.279425121578\n",
      "completed log-likelihood :  10824.905122087404\n",
      "completed log-likelihood :  10840.02832850629\n",
      "completed log-likelihood :  11069.616345549619\n",
      "completed log-likelihood :  11278.501224501106\n",
      "completed log-likelihood :  11611.38579425975\n",
      "completed log-likelihood :  12031.180076889668\n",
      "completed log-likelihood :  12214.8031587033\n",
      "completed log-likelihood :  12250.712464793878\n",
      "completed log-likelihood :  12544.689130142146\n",
      "completed log-likelihood :  12700.725544720748\n",
      "completed log-likelihood :  12773.309450840634\n",
      "completed log-likelihood :  12966.513700912945\n",
      "completed log-likelihood :  13124.917099607263\n",
      "completed log-likelihood :  13150.73946546316\n",
      "completed log-likelihood :  13157.743688575238\n",
      "completed log-likelihood :  13161.239746776959\n",
      "completed log-likelihood :  13163.470414998865\n",
      "completed log-likelihood :  13165.02774603101\n",
      "completed log-likelihood :  13166.167197428947\n"
     ]
    }
   ],
   "source": [
    "mfa2 = MFA(X, n_cluster=2, n_factor=6)\n",
    "mfa2.fit(max_iter=30)"
   ]
  },
  {
   "cell_type": "code",
   "execution_count": 98,
   "metadata": {},
   "outputs": [
    {
     "data": {
      "image/png": "[encoded data removed]",
      "text/plain": [
       "<Figure size 432x288 with 1 Axes>"
      ]
     },
     "metadata": {
      "needs_background": "light"
     },
     "output_type": "display_data"
    }
   ],
   "source": [
    "mfa2.plot_loglikelihood()"
   ]
  },
  {
   "cell_type": "code",
   "execution_count": 99,
   "metadata": {},
   "outputs": [
    {
     "data": {
      "text/plain": [
       "(2, 72)"
      ]
     },
     "execution_count": 99,
     "metadata": {},
     "output_type": "execute_result"
    }
   ],
   "source": [
    "mfa2.Rjt.shape"
   ]
  },
  {
   "cell_type": "markdown",
   "metadata": {},
   "source": [
    "## n_factor = 4, n_cluster = 6"
   ]
  },
  {
   "cell_type": "code",
   "execution_count": 101,
   "metadata": {},
   "outputs": [
    {
     "name": "stdout",
     "output_type": "stream",
     "text": [
      "completed log-likelihood :  5196.554339504602\n",
      "completed log-likelihood :  9258.206633498345\n",
      "completed log-likelihood :  10739.184589969012\n",
      "completed log-likelihood :  11189.16149897882\n",
      "completed log-likelihood :  11299.5162056366\n",
      "completed log-likelihood :  11446.038941220111\n",
      "completed log-likelihood :  11495.010777034524\n",
      "completed log-likelihood :  11533.428185877718\n",
      "completed log-likelihood :  11588.410258354083\n",
      "completed log-likelihood :  11646.56500982116\n",
      "completed log-likelihood :  11706.120144508257\n",
      "completed log-likelihood :  11785.12847330325\n",
      "completed log-likelihood :  11957.351070146862\n",
      "completed log-likelihood :  12177.971366348373\n",
      "completed log-likelihood :  12404.929532882868\n",
      "completed log-likelihood :  12949.728498214343\n",
      "completed log-likelihood :  13253.617916368588\n",
      "completed log-likelihood :  13670.135287431644\n",
      "completed log-likelihood :  13904.630492023016\n",
      "completed log-likelihood :  13998.081668983554\n",
      "completed log-likelihood :  14014.522378105457\n",
      "completed log-likelihood :  14024.383108365095\n",
      "completed log-likelihood :  14032.467583737365\n",
      "completed log-likelihood :  14039.444319380755\n",
      "completed log-likelihood :  14045.57824499444\n",
      "completed log-likelihood :  14051.026732131933\n",
      "completed log-likelihood :  14055.897399822075\n",
      "completed log-likelihood :  14060.269299928734\n",
      "completed log-likelihood :  14064.20320111786\n",
      "completed log-likelihood :  14067.747470720886\n",
      "completed log-likelihood :  14070.941808256217\n",
      "completed log-likelihood :  14073.819748004447\n",
      "completed log-likelihood :  14076.41036913825\n",
      "completed log-likelihood :  14078.739463672573\n",
      "completed log-likelihood :  14080.830320766281\n",
      "completed log-likelihood :  14082.70424225099\n",
      "completed log-likelihood :  14084.380873207274\n",
      "completed log-likelihood :  14085.878408210463\n",
      "completed log-likelihood :  14087.21372144187\n",
      "completed log-likelihood :  14088.402448183886\n",
      "completed log-likelihood :  14089.45904280447\n",
      "completed log-likelihood :  14090.396825700245\n",
      "completed log-likelihood :  14091.228027389752\n",
      "completed log-likelihood :  14091.96383502208\n",
      "completed log-likelihood :  14092.614441980462\n",
      "completed log-likelihood :  14093.189101844102\n",
      "completed log-likelihood :  14093.696186100085\n",
      "completed log-likelihood :  14094.143243108832\n",
      "completed log-likelihood :  14094.537058989927\n",
      "completed log-likelihood :  14094.883717861381\n",
      "completed log-likelihood :  14095.18866053943\n",
      "completed log-likelihood :  14095.456742336739\n",
      "completed log-likelihood :  14095.69228628391\n",
      "completed log-likelihood :  14095.899135803103\n",
      "completed log-likelihood :  14096.080701072253\n",
      "completed log-likelihood :  14096.240004165787\n",
      "completed log-likelihood :  14096.379719146043\n",
      "completed log-likelihood :  14096.502210068418\n",
      "completed log-likelihood :  14096.609563724956\n",
      "completed log-likelihood :  14096.703621007811\n",
      "old_loss :  14096.609563724956\n",
      "new_loss :  14096.703621007811\n"
     ]
    }
   ],
   "source": [
    "mfa3 = MFA(X, 6, 4)\n",
    "mfa3.fit(max_iter=60)"
   ]
  },
  {
   "cell_type": "code",
   "execution_count": 102,
   "metadata": {},
   "outputs": [
    {
     "data": {
      "image/png": "[encoded data removed]",
      "text/plain": [
       "<Figure size 432x288 with 1 Axes>"
      ]
     },
     "metadata": {
      "needs_background": "light"
     },
     "output_type": "display_data"
    }
   ],
   "source": [
    "mfa3.plot_loglikelihood()"
   ]
  },
  {
   "cell_type": "code",
   "execution_count": 103,
   "metadata": {},
   "outputs": [
    {
     "name": "stdout",
     "output_type": "stream",
     "text": [
      "completed log-likelihood :  5345.012663558867\n",
      "completed log-likelihood :  9784.795791928538\n",
      "completed log-likelihood :  11016.055911127458\n",
      "completed log-likelihood :  11244.493644700831\n",
      "completed log-likelihood :  11315.615128992788\n",
      "completed log-likelihood :  11382.74656449042\n",
      "completed log-likelihood :  11452.549295267232\n",
      "completed log-likelihood :  11513.204156069412\n",
      "completed log-likelihood :  11565.642495317414\n",
      "completed log-likelihood :  11671.783723686583\n",
      "completed log-likelihood :  11853.506907158979\n",
      "completed log-likelihood :  11976.995633136572\n",
      "completed log-likelihood :  12143.251613055845\n",
      "completed log-likelihood :  12427.040693645731\n",
      "completed log-likelihood :  12588.914945846875\n",
      "completed log-likelihood :  13012.39971367164\n",
      "completed log-likelihood :  13251.177050097935\n",
      "completed log-likelihood :  13511.184548624631\n",
      "completed log-likelihood :  13763.23491030265\n",
      "completed log-likelihood :  14129.855064164245\n",
      "completed log-likelihood :  14379.108482445137\n",
      "completed log-likelihood :  14407.624787464452\n",
      "completed log-likelihood :  14415.110637198177\n",
      "completed log-likelihood :  14421.730904215869\n",
      "completed log-likelihood :  14493.710612076253\n",
      "completed log-likelihood :  14502.01829951787\n",
      "completed log-likelihood :  14504.423051367903\n",
      "completed log-likelihood :  14505.938926069528\n",
      "completed log-likelihood :  14507.071559984439\n",
      "completed log-likelihood :  14507.957500314542\n",
      "completed log-likelihood :  14508.667206455368\n",
      "completed log-likelihood :  14509.245164612681\n",
      "completed log-likelihood :  14509.72175553101\n",
      "completed log-likelihood :  14510.118717532316\n",
      "completed log-likelihood :  14510.45212808898\n",
      "completed log-likelihood :  14510.734177118666\n",
      "completed log-likelihood :  14510.974287636831\n",
      "completed log-likelihood :  14511.179855253533\n",
      "completed log-likelihood :  14511.356758287477\n",
      "completed log-likelihood :  14511.509716182707\n",
      "completed log-likelihood :  14511.642552098581\n",
      "completed log-likelihood :  14511.75838677447\n",
      "completed log-likelihood :  14511.859783672217\n",
      "completed log-likelihood :  14511.948862262077\n",
      "old_loss :  14511.859783672217\n",
      "new_loss :  14511.948862262077\n"
     ]
    }
   ],
   "source": [
    "mfa4 = MFA(X, 7, 5)\n",
    "mfa4.fit(max_iter=60)"
   ]
  },
  {
   "cell_type": "code",
   "execution_count": 104,
   "metadata": {},
   "outputs": [
    {
     "data": {
      "image/png": "[encoded data removed]",
      "text/plain": [
       "<Figure size 432x288 with 1 Axes>"
      ]
     },
     "metadata": {
      "needs_background": "light"
     },
     "output_type": "display_data"
    }
   ],
   "source": [
    "mfa4.plot_loglikelihood()"
   ]
  },
  {
   "cell_type": "markdown",
   "metadata": {},
   "source": [
    "## MFA inferece"
   ]
  },
  {
   "cell_type": "code",
   "execution_count": 105,
   "metadata": {},
   "outputs": [],
   "source": [
    "gene_type_cluster = np.argmax(mfa.Rjt.T, axis=1)"
   ]
  },
  {
   "cell_type": "code",
   "execution_count": 106,
   "metadata": {},
   "outputs": [
    {
     "data": {
      "text/plain": [
       "0.9583333333333334"
      ]
     },
     "execution_count": 106,
     "metadata": {},
     "output_type": "execute_result"
    }
   ],
   "source": [
    "cluster_accuracy(gene_type_true, gene_type_cluster)"
   ]
  },
  {
   "cell_type": "code",
   "execution_count": 107,
   "metadata": {},
   "outputs": [],
   "source": [
    "valid_data = np.concatenate([mfa.X, gene_type_cluster.reshape(1,-1), gene_type_true.reshape(1, -1)], axis=0)\n",
    "X_cluster_0 = valid_data[:, np.where(gene_type_cluster == 0)[0]]\n",
    "X_cluster_1 = valid_data[:, np.where(gene_type_cluster == 1)[0]]\n",
    "y_cluster = np.concatenate([X_cluster_0[100,:], X_cluster_1[100,:]])\n",
    "y_true = np.concatenate([X_cluster_0[101,:], X_cluster_1[101,:]])"
   ]
  },
  {
   "cell_type": "code",
   "execution_count": 108,
   "metadata": {},
   "outputs": [],
   "source": [
    "dim_reduction_c0 = (np.linalg.inv(mfa.A[0].T @ mfa.A[0]) @ mfa.A[0].T) @ (X_cluster_0[:100,:] - mfa.mu[0])\n",
    "dim_reduction_c1 = (np.linalg.inv(mfa.A[1].T @ mfa.A[1]) @ mfa.A[1].T) @ (X_cluster_1[:100,:] - mfa.mu[1])"
   ]
  },
  {
   "cell_type": "code",
   "execution_count": 109,
   "metadata": {},
   "outputs": [],
   "source": [
    "dimre_X = np.concatenate([dim_reduction_c0, dim_reduction_c1], axis=1)\n",
    "dimre_X = np.concatenate([dimre_X, y_true.reshape(1,-1), y_cluster.reshape(1,-1)], axis=0)"
   ]
  },
  {
   "cell_type": "code",
   "execution_count": 110,
   "metadata": {},
   "outputs": [
    {
     "data": {
      "image/png": "[encoded data removed]",
      "text/plain": [
       "<Figure size 1440x504 with 2 Axes>"
      ]
     },
     "metadata": {
      "needs_background": "light"
     },
     "output_type": "display_data"
    }
   ],
   "source": [
    "# fig = plt.figure(figsize=(15,10))\n",
    "fig, axes = plt.subplots(nrows=1, ncols=2, figsize=(20,7))\n",
    "axes[0].scatter(dimre_X.T[np.where(dimre_X.T[:,2]==1), 0], dimre_X.T[np.where(dimre_X.T[:,2]==1), 1])\n",
    "axes[0].scatter(dimre_X.T[np.where(dimre_X.T[:,2]==0), 0], dimre_X.T[np.where(dimre_X.T[:,2]==0), 1])\n",
    "axes[1].scatter(dimre_X.T[np.where(dimre_X.T[:,3]==1), 0], dimre_X.T[np.where(dimre_X.T[:,3]==1), 1])\n",
    "axes[1].scatter(dimre_X.T[np.where(dimre_X.T[:,3]==0), 0], dimre_X.T[np.where(dimre_X.T[:,3]==0), 1])\n",
    "axes[0].set_title(\"MFA Cluster Resutls\")\n",
    "axes[1].set_title(\"MFA True\")\n",
    "plt.show()"
   ]
  },
  {
   "cell_type": "code",
   "execution_count": 117,
   "metadata": {},
   "outputs": [],
   "source": [
    "gene_type_cluster2 = np.argmin(mfa2.Rjt.T, axis=1)"
   ]
  },
  {
   "cell_type": "code",
   "execution_count": 118,
   "metadata": {},
   "outputs": [
    {
     "data": {
      "text/plain": [
       "0.9583333333333334"
      ]
     },
     "execution_count": 118,
     "metadata": {},
     "output_type": "execute_result"
    }
   ],
   "source": [
    "cluster_accuracy(gene_type_true, gene_type_cluster2)"
   ]
  },
  {
   "cell_type": "markdown",
   "metadata": {},
   "source": []
  }
 ],
 "metadata": {
  "kernelspec": {
   "display_name": "Python 3",
   "language": "python",
   "name": "python3"
  },
  "language_info": {
   "codemirror_mode": {
    "name": "ipython",
    "version": 3
   },
   "file_extension": ".py",
   "mimetype": "text/x-python",
   "name": "python",
   "nbconvert_exporter": "python",
   "pygments_lexer": "ipython3",
   "version": "3.6.9"
  }
 },
 "nbformat": 4,
 "nbformat_minor": 4
}
