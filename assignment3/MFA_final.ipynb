{
 "cells": [
  {
   "cell_type": "code",
   "execution_count": 1730,
   "metadata": {},
   "outputs": [],
   "source": [
    "import numpy as np\n",
    "import pandas as pd\n",
    "import scipy\n",
    "from tqdm import tqdm\n",
    "from scipy.stats import multivariate_normal"
   ]
  },
  {
   "cell_type": "code",
   "execution_count": 1731,
   "metadata": {},
   "outputs": [
    {
     "data": {
      "text/plain": [
       "(7128, 72)"
      ]
     },
     "execution_count": 1731,
     "metadata": {},
     "output_type": "execute_result"
    }
   ],
   "source": [
    "data = pd.read_csv('./data/leukemia_big.csv')\n",
    "data.shape"
   ]
  },
  {
   "cell_type": "code",
   "execution_count": 1732,
   "metadata": {},
   "outputs": [],
   "source": [
    "np.random.seed(1234)"
   ]
  },
  {
   "cell_type": "code",
   "execution_count": 1733,
   "metadata": {},
   "outputs": [
    {
     "name": "stderr",
     "output_type": "stream",
     "text": [
      "100%|██████████| 7128/7128 [00:31<00:00, 227.50it/s]\n"
     ]
    }
   ],
   "source": [
    "ALL_columns = [c for c in data.columns if 'ALL' in c]\n",
    "AML_columns = [c for c in data.columns if 'AML' in c]\n",
    "ttest_df = pd.DataFrame(columns=['sampleId','ttest'])\n",
    "for i in tqdm(data.index):\n",
    "    pvlaue = scipy.stats.ttest_ind(data.T.loc[ALL_columns,i], data.T.loc[AML_columns,i]).pvalue\n",
    "    ttest_df = ttest_df.append({'sampleId':str(i),'ttest':pvlaue}, ignore_index=True)"
   ]
  },
  {
   "cell_type": "code",
   "execution_count": 1734,
   "metadata": {},
   "outputs": [],
   "source": [
    "select100 = ttest_df.sort_values('ttest').iloc[:100].index"
   ]
  },
  {
   "cell_type": "code",
   "execution_count": 1735,
   "metadata": {},
   "outputs": [],
   "source": [
    "X = data.iloc[select100].values\n",
    "mean_x = np.mean(X, axis=1, keepdims=True)\n",
    "X_center = X - mean_x"
   ]
  },
  {
   "cell_type": "code",
   "execution_count": 1501,
   "metadata": {},
   "outputs": [],
   "source": [
    "class MFA:\n",
    "    def __init__(self, X, n_cluster, n_factor):\n",
    "        mean_x = np.mean(X, axis=1, keepdims=True)\n",
    "        self.X = X - mean_x\n",
    "        self.D, self.N = X.shape\n",
    "        # set hyper parameter\n",
    "        '''\n",
    "        n_factor : The number of latent value (q)\n",
    "        n_cluster : The number of cluster\n",
    "        '''\n",
    "        self.n_factor = n_factor\n",
    "        self.n_cluster = n_cluster\n",
    "        # E_step parameter\n",
    "        self.Es = None\n",
    "        self.Ess = None\n",
    "        self.Rjt = None\n",
    "        # M_step parameter\n",
    "        self.pi = None\n",
    "        self.mu = None\n",
    "        self.A = None\n",
    "        self.sigma = None\n",
    "        # complete log-likelihood \n",
    "        self.cll = list()\n",
    "        \n",
    "    def _initializer(self):\n",
    "        self.pi = np.array([1] * self.n_cluster) / self.n_cluster  # (K,) array\n",
    "        self.mu = np.random.normal(0, 0.1, size=self.n_cluster*self.D*1).reshape(self.n_cluster, self.D, 1)\n",
    "        self.A = np.random.normal(size=self.n_cluster*self.D*self.n_factor).reshape(self.n_cluster, self.D, self.n_factor)\n",
    "        self.sigma = np.diag(np.ones(shape=self.D))\n",
    "    \n",
    "    def is_pos_def(self, x):\n",
    "        return np.all(np.linalg.eigvals(x) > 0)\n",
    "\n",
    "    def make_psd(self, cov_Xt):\n",
    "        if self.is_pos_def(cov_Xt) != True:\n",
    "            cov_Xt = cov_Xt + 10*abs(float(min(np.linalg.eigvals(cov_Xt)).real))*np.eye(self.D)\n",
    "        return cov_Xt\n",
    "    \n",
    "    def E_step(self):\n",
    "        cov_Xt = lambda j:np.matmul(self.A[j,:], self.A[j,:].T) + self.sigma  #AjAj^T + sigma\n",
    "        gaussian_pdf = np.array([multivariate_normal.pdf(self.X.T, self.mu[j].flatten(), self.make_psd(cov_Xt(j)), allow_singular=True) \\\n",
    "                                 for j in range(self.n_cluster)])\n",
    "\n",
    "        pdf_weight = gaussian_pdf.sum()\n",
    "        print('pdf sum : ', pdf_weight)\n",
    "#         print('pdf sum logic : ', pdf_weight < 1e-47)\n",
    "        \n",
    "#         if pdf_weight < 1e-47:\n",
    "#             gaussian_pdf = 100 * gaussian_pdf\n",
    "#             pdf_weight2 = (gaussian_pdf).sum()\n",
    "#             print('pdf weights2 : ', pdf_weight2)\n",
    "\n",
    "        Rjt = self.pi.reshape(-1,1) * gaussian_pdf\n",
    "        Rjt = Rjt/Rjt.sum(axis=0, keepdims=True)\n",
    "        Es, Ess = list(), list()\n",
    "        for j in range(self.n_cluster):\n",
    "            phi = np.matmul(self.A[j].T, np.linalg.inv(self.make_psd(cov_Xt(j)))) # pi\n",
    "            Esj, Essj = list(), list()\n",
    "            for t in range(self.N):\n",
    "                Esjt = phi @ (self.X[:,t] - self.mu[j].flatten())\n",
    "                Essjt = np.eye(self.n_factor) - (phi @ self.A[j]) + phi @ (self.X[:,t] - self.mu[j]) @ (self.X[:,t] - self.mu[j]).T @ phi.T\n",
    "                Esj.append(Esjt)\n",
    "                Essj.append(Essjt)\n",
    "            Es.append(Esj)\n",
    "            Ess.append(Essj)\n",
    "        self.Es, self.Ess, self.Rjt =  np.array(Es), np.array(Ess), Rjt\n",
    "    \n",
    "    def M_step(self): \n",
    "        A_new = np.zeros(shape=(self.n_cluster, self.D, self.n_factor))\n",
    "        for j in range(self.n_cluster):\n",
    "            temp_Aj = np.zeros(shape=(self.D, self.n_factor))\n",
    "            for t in range(self.N):\n",
    "                temp_Aj += self.Rjt[j,t]*((self.X[:,t].reshape(-1,1) - self.mu[j]) @ self.Es[j,t].reshape(1,-1)) @ self.Ess[j,t]\n",
    "            A_new[j,:,:] = temp_Aj\n",
    "        mu_new = np.zeros(shape=(self.D, self.n_cluster))\n",
    "        sigma_new = np.zeros(shape=(self.D, self.D))\n",
    "        for j in range(self.n_cluster):\n",
    "            temp_muj = np.zeros(shape=(self.D, 1))\n",
    "            denominator = 0\n",
    "            for t in range(self.N):\n",
    "                temp_muj += self.Rjt[j,t]*((self.X[:,t].reshape(-1,1) - A_new[j,:,:] @ self.Es[j,t].reshape(-1,1)))\n",
    "                sigma_new += self.Rjt[j,t]*((self.X[:,t].reshape(-1,1) - self.mu[j]) @ (self.X[:,t].reshape(-1,1) - self.mu[j]).T - (A_new[j,:,:] @ self.Es[j,t].reshape(-1,1) @ (self.X[:,t].reshape(-1,1) - self.mu[j]).T))\n",
    "                denominator += self.Rjt[j,t]\n",
    "\n",
    "            mu_new[:,j] = (temp_muj/denominator).flatten()\n",
    "\n",
    "        sigma_new = (1/self.N)*np.diag(np.diag(sigma_new))\n",
    "        pi_new = self.Rjt.mean(axis=1)\n",
    "        self.A, self.mu, self.sigma, self.pi =  A_new, mu_new.T.reshape(self.n_cluster,100,1), sigma_new, pi_new\n",
    "    \n",
    "#     def loss_func(self):\n",
    "#         cll = -0.5*self.*np.log(np.linalg.det(self.sigma))"
   ]
  },
  {
   "cell_type": "code",
   "execution_count": 1502,
   "metadata": {},
   "outputs": [],
   "source": [
    "mfa = MFA(X_center, 4, 3)"
   ]
  },
  {
   "cell_type": "code",
   "execution_count": 1503,
   "metadata": {},
   "outputs": [],
   "source": [
    "mfa._initializer()"
   ]
  },
  {
   "cell_type": "code",
   "execution_count": 1504,
   "metadata": {},
   "outputs": [
    {
     "name": "stdout",
     "output_type": "stream",
     "text": [
      "pdf sum :  1.7973902824565e-46\n"
     ]
    }
   ],
   "source": [
    "mfa.E_step()\n",
    "mfa.M_step()"
   ]
  },
  {
   "cell_type": "code",
   "execution_count": 1505,
   "metadata": {},
   "outputs": [
    {
     "data": {
      "text/plain": [
       "4981.589645150569"
      ]
     },
     "execution_count": 1505,
     "metadata": {},
     "output_type": "execute_result"
    }
   ],
   "source": [
    "-(0.5*mfa.Rjt*np.log(np.linalg.det(mfa.sigma))).sum()"
   ]
  },
  {
   "cell_type": "code",
   "execution_count": 1506,
   "metadata": {},
   "outputs": [
    {
     "data": {
      "text/plain": [
       "array([[0.61438558, 0.        , 0.        , ..., 0.        , 0.        ,\n",
       "        0.        ],\n",
       "       [0.        , 1.74349534, 0.        , ..., 0.        , 0.        ,\n",
       "        0.        ],\n",
       "       [0.        , 0.        , 0.22703215, ..., 0.        , 0.        ,\n",
       "        0.        ],\n",
       "       ...,\n",
       "       [0.        , 0.        , 0.        , ..., 0.23809098, 0.        ,\n",
       "        0.        ],\n",
       "       [0.        , 0.        , 0.        , ..., 0.        , 0.14154684,\n",
       "        0.        ],\n",
       "       [0.        , 0.        , 0.        , ..., 0.        , 0.        ,\n",
       "        0.13866806]])"
      ]
     },
     "execution_count": 1506,
     "metadata": {},
     "output_type": "execute_result"
    }
   ],
   "source": [
    "mfa.sigma"
   ]
  },
  {
   "cell_type": "code",
   "execution_count": 1507,
   "metadata": {},
   "outputs": [
    {
     "data": {
      "text/plain": [
       "(4, 100, 1)"
      ]
     },
     "execution_count": 1507,
     "metadata": {},
     "output_type": "execute_result"
    }
   ],
   "source": [
    "mfa.mu.shape"
   ]
  },
  {
   "cell_type": "code",
   "execution_count": 1508,
   "metadata": {},
   "outputs": [
    {
     "data": {
      "text/plain": [
       "(4,)"
      ]
     },
     "execution_count": 1508,
     "metadata": {},
     "output_type": "execute_result"
    }
   ],
   "source": [
    "mfa.pi.shape"
   ]
  },
  {
   "cell_type": "code",
   "execution_count": 1509,
   "metadata": {},
   "outputs": [
    {
     "data": {
      "text/plain": [
       "(4, 100, 1)"
      ]
     },
     "execution_count": 1509,
     "metadata": {},
     "output_type": "execute_result"
    }
   ],
   "source": [
    "mfa.mu.shape"
   ]
  },
  {
   "cell_type": "code",
   "execution_count": 662,
   "metadata": {},
   "outputs": [
    {
     "data": {
      "text/plain": [
       "array([[[-1.00280534e+04,  1.02387258e+03, -1.90565382e+04],\n",
       "        [ 4.59889400e+03, -4.69550690e+02,  8.73938322e+03],\n",
       "        [-8.45832857e+02,  8.63602814e+01, -1.60735537e+03],\n",
       "        ...,\n",
       "        [ 4.06676247e+03, -4.15219810e+02,  7.72816129e+03],\n",
       "        [-1.79789558e+03,  1.83566584e+02, -3.41658195e+03],\n",
       "        [ 7.25996172e+03, -7.41248069e+02,  1.37962706e+04]],\n",
       "\n",
       "       [[-9.15069117e+06,  9.72636282e+06, -1.05828864e+07],\n",
       "        [-1.73954489e+07,  1.84897998e+07, -2.01180497e+07],\n",
       "        [-5.46360088e+06,  5.80731701e+06, -6.31872131e+06],\n",
       "        ...,\n",
       "        [ 2.65419381e+06, -2.82116963e+06,  3.06960763e+06],\n",
       "        [ 3.87644631e+06, -4.12031425e+06,  4.48315761e+06],\n",
       "        [ 1.91610422e+06, -2.03664669e+06,  2.21599799e+06]],\n",
       "\n",
       "       [[-2.88458417e+03,  2.13036821e+03,  4.09418420e+03],\n",
       "        [-2.62306151e+03,  1.93725223e+03,  3.72301609e+03],\n",
       "        [-7.90461467e+02,  5.83791853e+02,  1.12193322e+03],\n",
       "        ...,\n",
       "        [ 3.58460589e+03, -2.64734075e+03, -5.08773488e+03],\n",
       "        [ 6.83339462e+02, -5.04675214e+02, -9.69889216e+02],\n",
       "        [ 2.16706522e+03, -1.60044286e+03, -3.07577775e+03]],\n",
       "\n",
       "       [[-7.00159257e-02, -4.56078166e-01, -2.62346551e-01],\n",
       "        [-7.00585851e-02, -4.70204035e-01, -2.63831848e-01],\n",
       "        [-2.66571262e-02, -1.76842132e-01, -1.00090411e-01],\n",
       "        ...,\n",
       "        [ 2.13746302e-02,  1.40912587e-01,  7.99534888e-02],\n",
       "        [ 3.23993171e-02,  2.09464244e-01,  1.22021197e-01],\n",
       "        [ 2.35747666e-02,  1.52260789e-01,  8.75855495e-02]]])"
      ]
     },
     "execution_count": 662,
     "metadata": {},
     "output_type": "execute_result"
    }
   ],
   "source": [
    "mfa.A"
   ]
  },
  {
   "cell_type": "code",
   "execution_count": 663,
   "metadata": {},
   "outputs": [
    {
     "data": {
      "text/plain": [
       "array([0.00822865, 0.01291479, 0.07695805, 0.9018985 ])"
      ]
     },
     "execution_count": 663,
     "metadata": {},
     "output_type": "execute_result"
    }
   ],
   "source": [
    "mfa.pi"
   ]
  },
  {
   "cell_type": "code",
   "execution_count": 665,
   "metadata": {},
   "outputs": [
    {
     "data": {
      "text/plain": [
       "array([0.00822302, 0.01291604, 0.07690588, 0.90195507])"
      ]
     },
     "execution_count": 665,
     "metadata": {},
     "output_type": "execute_result"
    }
   ],
   "source": [
    "mfa.Rjt[:,10]"
   ]
  },
  {
   "cell_type": "code",
   "execution_count": null,
   "metadata": {},
   "outputs": [],
   "source": []
  },
  {
   "cell_type": "code",
   "execution_count": 1729,
   "metadata": {},
   "outputs": [],
   "source": [
    "class MFA:\n",
    "    def __init__(self, X, n_cluster, n_factor):\n",
    "        mean_x = np.mean(X, axis=1, keepdims=True)\n",
    "        self.X = X - mean_x\n",
    "        self.D, self.N = X.shape\n",
    "        # set hyper parameter\n",
    "        '''\n",
    "        n_factor : The number of latent value (q)\n",
    "        n_cluster : The number of cluster\n",
    "        '''\n",
    "        self.n_factor = n_factor\n",
    "        self.n_cluster = n_cluster\n",
    "        # E_step parameter\n",
    "        self.Es = None\n",
    "        self.Ess = None\n",
    "        self.Rjt = None\n",
    "        # M_step parameter\n",
    "        self.pi = None\n",
    "        self.mu = None\n",
    "        self.A = None\n",
    "        self.sigma = None\n",
    "        # complete log-likelihood \n",
    "        self.cll = [inf]\n",
    "        \n",
    "    def _initializer(self):\n",
    "        self.pi = np.array([1] * self.n_cluster) / self.n_cluster  # (K,) array\n",
    "        self.mu = np.random.normal(0, 0.1, size=self.n_cluster*self.D*1).reshape(self.n_cluster, self.D, 1)\n",
    "        self.A = np.random.normal(size=self.n_cluster*self.D*self.n_factor).reshape(self.n_cluster, self.D, self.n_factor)\n",
    "        self.sigma = np.diag(np.ones(shape=self.D))\n",
    "    \n",
    "    def is_pos_def(self, x):\n",
    "        return np.all(np.linalg.eigvals(x) > 0)\n",
    "\n",
    "    def make_psd(self, cov_Xt):\n",
    "        if self.is_pos_def(cov_Xt) != True:\n",
    "            cov_Xt = cov_Xt + 10*abs(float(min(np.linalg.eigvals(cov_Xt)).real))*np.eye(self.D)\n",
    "        return cov_Xt\n",
    "    \n",
    "    def E_step(self):\n",
    "        cov_Xt = lambda j:np.matmul(self.A[j,:], self.A[j,:].T) + self.sigma  #AjAj^T + sigma\n",
    "        gaussian_pdf = np.array([multivariate_normal.pdf(self.X.T, self.mu[j].flatten(), self.make_psd(cov_Xt(j)), allow_singular=True) \\\n",
    "                                 for j in range(self.n_cluster)])\n",
    "\n",
    "        pdf_weight = gaussian_pdf.sum()\n",
    "        print('pdf sum : ', pdf_weight)\n",
    "#         print('pdf sum logic : ', pdf_weight < 1e-47)\n",
    "        \n",
    "#         if pdf_weight < 1e-47:\n",
    "#             gaussian_pdf = 100 * gaussian_pdf\n",
    "#             pdf_weight2 = (gaussian_pdf).sum()\n",
    "#             print('pdf weights2 : ', pdf_weight2)\n",
    "\n",
    "        Rjt = self.pi.reshape(-1,1) * gaussian_pdf\n",
    "        Rjt = Rjt/Rjt.sum(axis=0, keepdims=True)\n",
    "        Es, Ess = list(), list()\n",
    "        for j in range(self.n_cluster):\n",
    "            phi = np.matmul(self.A[j].T, np.linalg.inv(self.make_psd(cov_Xt(j)))) # pi\n",
    "            Esj, Essj = list(), list()\n",
    "            for t in range(self.N):\n",
    "                Esjt = phi @ (self.X[:,t] - self.mu[j].flatten())\n",
    "                Essjt = np.eye(self.n_factor) - (phi @ self.A[j]) + phi @ (self.X[:,t] - self.mu[j]) @ (self.X[:,t] - self.mu[j]).T @ phi.T\n",
    "                Esj.append(Esjt)\n",
    "                Essj.append(Essjt)\n",
    "            Es.append(Esj)\n",
    "            Ess.append(Essj)\n",
    "        self.Es, self.Ess, self.Rjt =  np.array(Es), np.array(Ess), Rjt\n",
    "    \n",
    "    def M_step(self): \n",
    "        A_new = np.zeros(shape=(self.n_cluster, self.D, self.n_factor))\n",
    "        for j in range(self.n_cluster):\n",
    "            Aj1 = np.zeros(shape=(self.D, self.n_factor))\n",
    "            Aj2 = np.zeros(shape=(self.n_factor, self.n_factor))\n",
    "            for t in range(self.N):\n",
    "                Aj1 += self.Rjt[j,t] * ((self.X[:,t].reshape(-1,1) - self.mu[j]) @ self.Es[j,t].reshape(1,-1))\n",
    "                Aj2 += self.Rjt[j,t] * self.Ess[j,t]\n",
    "            A_new[j,:,:] = Aj1 @ np.linalg.inv(Aj2)\n",
    "        mu_new = np.zeros(shape=(self.D, self.n_cluster))\n",
    "        sigma_new = np.zeros(shape=(self.D, self.D))\n",
    "        for j in range(self.n_cluster):\n",
    "            temp_muj = np.zeros(shape=(self.D, 1))\n",
    "            denominator = 0\n",
    "            for t in range(self.N):\n",
    "                temp_muj += self.Rjt[j,t]*((self.X[:,t].reshape(-1,1) - A_new[j,:,:] @ self.Es[j,t].reshape(-1,1)))\n",
    "                sigma_new += self.Rjt[j,t]*((self.X[:,t].reshape(-1,1) - self.mu[j]) @ (self.X[:,t].reshape(-1,1) - self.mu[j]).T - (A_new[j,:,:] @ self.Es[j,t].reshape(-1,1) @ (self.X[:,t].reshape(-1,1) - self.mu[j]).T))\n",
    "                denominator += self.Rjt[j,t]\n",
    "\n",
    "            mu_new[:,j] = (temp_muj/denominator).flatten()\n",
    "\n",
    "        sigma_new = (1/self.N)*np.diag(np.diag(sigma_new))\n",
    "        pi_new = self.Rjt.mean(axis=1)\n",
    "        self.A, self.mu, self.sigma, self.pi =  A_new, mu_new.T.reshape(self.n_cluster,100,1), sigma_new, pi_new\n",
    "    \n",
    "#     def loss_func(self):\n",
    "# #         const = (-0.5 * self.Rjt * np.log(np.linalg.det(self.sigma))).sum()\n",
    "#         exp_term = 0\n",
    "#         inv_sigma = np.linalg.inv(self.sigma)\n",
    "#         for j in range(self.n_cluster):\n",
    "#             for t in range(self.N):\n",
    "#                 temp_exp_term = self.X[:,t].reshape(-1,1) - (self.A[j,:,:] @ self.Es[j,t,:].reshape(-1,1)) - self.mu[j,:,:]\n",
    "# #                 print(temp_exp_term.shape)\n",
    "#                 exp_term += -1 * self.Rjt[j,t] * (temp_exp_term.T @ inv_sigma @ temp_exp_term)\n",
    "#         print(\"completed log-likelihood : \", exp_term[0][0])\n",
    "#         self.cll.append(exp_term[0][0])\n",
    "\n",
    "    def loss_function(self):\n",
    "        self.loss = 0\n",
    "        inv_sigma = np.linalg.inv(self.sigma)\n",
    "        for j in range(self.n_cluster):\n",
    "            for t in range(self.N):\n",
    "                loss_temp = np.log(self.pi[j]) - 0.5*(self.X[:, t] @ inv_sigma @ self.X[:, t] - 2 * self.X[:, t] @ inv_sigma @ self.A[j] @ self.Es[j, t] \\\n",
    "                                              -2 * self.X[:,t] @ inv_sigma @ self.mu[j].reshape(-1) + 2 * mfa.mu[j].reshape(-1) @ inv_sigma @ self.A[j]@ self.Es[j,t]\\\n",
    "                                              + np.matrix.trace(self.A[j].T @ inv_sigma @ self.A[j] @ self.Ess[j,t]) + self.mu[j].reshape(-1) @ inv_sigma @self.mu[j].reshape(-1))      \n",
    "#                 loss = self.Rjt[j,t]*(loss_temp - np.log(np.linalg.det(self.sigma))-(self.D/2)*np.log(2*np.pi))\n",
    "                det_sigma = np.linalg.det(self.sigma)\n",
    "                if det_sigma < 1e-90:\n",
    "                    det_sigma + np.exp(-210)\n",
    "                else:\n",
    "                    pass                    \n",
    "                loss = self.Rjt[j,t]*(loss_temp - 0.5 * np.log(det_sigma) - (self.D/2)*np.log(2*np.pi))\n",
    "                self.loss += loss\n",
    "        print(\"completed log-likelihood : \", self.loss)\n",
    "        self.cll.append(self.loss)\n",
    "    \n",
    "    def fit(max_iter=20, tol_el=1e-2):\n",
    "        iter_ = 0\n",
    "        while iter_ < max_iter:\n",
    "            self.E_step()\n",
    "            self.M_step()\n",
    "            self.loss_function()\n",
    "            if abs(self.cll[-1] - self.loss) < 1e-2:\n",
    "                print(\"old_loss : \", self.cll[-1])\n",
    "                print(\"new_loss : \", self.loss)\n",
    "                break\n",
    "            iter_ += 1"
   ]
  },
  {
   "cell_type": "code",
   "execution_count": 1717,
   "metadata": {},
   "outputs": [],
   "source": [
    "mfa = MFA(X_center, n_cluster=2, n_factor=3)"
   ]
  },
  {
   "cell_type": "code",
   "execution_count": 1718,
   "metadata": {},
   "outputs": [],
   "source": [
    "mfa._initializer()"
   ]
  },
  {
   "cell_type": "code",
   "execution_count": 1725,
   "metadata": {},
   "outputs": [
    {
     "data": {
      "text/plain": [
       "-3125.134806486603"
      ]
     },
     "execution_count": 1725,
     "metadata": {},
     "output_type": "execute_result"
    }
   ],
   "source": [
    "mfa.loss"
   ]
  },
  {
   "cell_type": "code",
   "execution_count": 1720,
   "metadata": {},
   "outputs": [
    {
     "name": "stdout",
     "output_type": "stream",
     "text": [
      "pdf sum :  1.4148079100883764e-46\n",
      "completed log-likelihood :  -4917.288514134908\n",
      "pdf sum :  2.673929454723997e-16\n",
      "completed log-likelihood :  -4049.935911126402\n",
      "pdf sum :  3.786457361655136e-12\n",
      "completed log-likelihood :  -4725.465013671034\n",
      "pdf sum :  4.0911036327928685e-14\n",
      "completed log-likelihood :  -3538.282803424109\n",
      "pdf sum :  6.233809056192657e-11\n",
      "completed log-likelihood :  -3216.987101996523\n",
      "pdf sum :  1.7520116402963872e-08\n",
      "completed log-likelihood :  -3176.039978528011\n",
      "pdf sum :  1.625038500687247e-08\n",
      "completed log-likelihood :  -3134.097372687071\n",
      "pdf sum :  2.658201825391531e-08\n",
      "completed log-likelihood :  -3116.1235150484936\n",
      "pdf sum :  5.363226251182362e-08\n",
      "completed log-likelihood :  -3127.6404628953906\n",
      "pdf sum :  2.782962450464321e-08\n",
      "completed log-likelihood :  -3129.423605506459\n",
      "pdf sum :  2.4103855152922626e-08\n",
      "completed log-likelihood :  -3125.164287863781\n",
      "pdf sum :  3.644575025888788e-08\n",
      "completed log-likelihood :  -3123.006410968732\n",
      "pdf sum :  4.1764333209324016e-08\n",
      "completed log-likelihood :  -3125.741329836944\n",
      "pdf sum :  3.1954232513770075e-08\n",
      "completed log-likelihood :  -3126.4087452784433\n",
      "pdf sum :  3.0772421960957374e-08\n",
      "completed log-likelihood :  -3125.2189164990273\n",
      "pdf sum :  3.452331757320275e-08\n",
      "completed log-likelihood :  -3124.807535478727\n",
      "pdf sum :  3.5369808529857314e-08\n",
      "completed log-likelihood :  -3125.3541273993283\n",
      "pdf sum :  3.342905497648759e-08\n",
      "completed log-likelihood :  -3125.5358404749454\n",
      "pdf sum :  3.3046869285974475e-08\n",
      "completed log-likelihood :  -3125.2410602264936\n",
      "pdf sum :  3.3887350279201604e-08\n",
      "completed log-likelihood :  -3125.1431043968496\n",
      "pdf sum :  3.4044427484349305e-08\n",
      "completed log-likelihood :  -3125.247621800434\n",
      "pdf sum :  3.3613984132871485e-08\n",
      "completed log-likelihood :  -3125.2902907178673\n",
      "pdf sum :  3.348259851270205e-08\n",
      "completed log-likelihood :  -3125.2100735649283\n",
      "pdf sum :  3.363765993143531e-08\n",
      "completed log-likelihood :  -3125.181477673875\n",
      "pdf sum :  3.364535941857085e-08\n",
      "completed log-likelihood :  -3125.1912914881555\n",
      "pdf sum :  3.352942322014027e-08\n",
      "completed log-likelihood :  -3125.1958043018617\n",
      "pdf sum :  3.346886293696154e-08\n",
      "completed log-likelihood :  -3125.1651863048237\n",
      "pdf sum :  3.347734572515281e-08\n",
      "completed log-likelihood :  -3125.1513125863953\n",
      "pdf sum :  3.3452562280476836e-08\n",
      "completed log-likelihood :  -3125.141294036483\n",
      "pdf sum :  3.340409738949327e-08\n",
      "completed log-likelihood :  -3125.134806486603\n"
     ]
    }
   ],
   "source": [
    "for iter in range(30):\n",
    "    mfa.E_step()\n",
    "    mfa.M_step()\n",
    "    mfa.loss_function()"
   ]
  },
  {
   "cell_type": "code",
   "execution_count": 1721,
   "metadata": {},
   "outputs": [],
   "source": [
    "# for iter in range(20):\n",
    "#     mfa.E_step()\n",
    "#     mfa.M_step()\n",
    "#     mfa.loss_func()"
   ]
  },
  {
   "cell_type": "code",
   "execution_count": 1722,
   "metadata": {},
   "outputs": [],
   "source": [
    "import matplotlib.pyplot as plt"
   ]
  },
  {
   "cell_type": "code",
   "execution_count": 1723,
   "metadata": {},
   "outputs": [
    {
     "data": {
      "text/plain": [
       "[<matplotlib.lines.Line2D at 0x7fcb07e9f908>]"
      ]
     },
     "execution_count": 1723,
     "metadata": {},
     "output_type": "execute_result"
    },
    {
     "data": {
      "image/png": "[encoded data removed]",
      "text/plain": [
       "<Figure size 432x288 with 1 Axes>"
      ]
     },
     "metadata": {
      "needs_background": "light"
     },
     "output_type": "display_data"
    }
   ],
   "source": [
    "plt.plot(mfa.cll)"
   ]
  },
  {
   "cell_type": "code",
   "execution_count": 1724,
   "metadata": {},
   "outputs": [
    {
     "data": {
      "text/plain": [
       "array([[3.22066971e-103, 8.69217748e-058, 3.13405818e-076,\n",
       "        5.50002167e-053, 1.45225098e-117, 9.47735875e-091,\n",
       "        7.20897353e-117, 1.51085513e-082, 5.30413778e-132,\n",
       "        4.68323742e-097, 3.21306696e-109, 7.71907012e-090,\n",
       "        1.83931316e-073, 5.43938883e-093, 9.56389895e-092,\n",
       "        4.56117731e-098, 3.77309522e-017, 3.33871276e-053,\n",
       "        1.60325725e-090, 4.01267685e-069, 1.00000000e+000,\n",
       "        1.00000000e+000, 1.00000000e+000, 1.00000000e+000,\n",
       "        1.00000000e+000, 1.00000000e+000, 1.00000000e+000,\n",
       "        1.00000000e+000, 1.00000000e+000, 1.00000000e+000,\n",
       "        1.85383352e-017, 1.00000000e+000, 1.00000000e+000,\n",
       "        1.00000000e+000, 7.04698627e-115, 1.55626569e-036,\n",
       "        8.32416258e-092, 7.63137198e-096, 1.14452707e-075,\n",
       "        1.25831381e-076, 1.69105199e-082, 4.76905529e-107,\n",
       "        1.23337972e-090, 2.28409850e-058, 2.95667492e-095,\n",
       "        1.97458467e-016, 1.98356888e-122, 3.34115269e-048,\n",
       "        1.10757298e-114, 2.03422798e-122, 8.04600272e-030,\n",
       "        1.10149347e-077, 8.67408569e-117, 4.42337856e-134,\n",
       "        1.31067580e-119, 8.87929110e-083, 5.76999673e-091,\n",
       "        1.70039936e-113, 7.72474347e-078, 9.85798357e-108,\n",
       "        5.27989251e-092, 1.00000000e+000, 1.00000000e+000,\n",
       "        1.00000000e+000, 1.00000000e+000, 1.00000000e+000,\n",
       "        1.00000000e+000, 1.00000000e+000, 1.00000000e+000,\n",
       "        1.00000000e+000, 1.00000000e+000, 1.00000000e+000],\n",
       "       [1.00000000e+000, 1.00000000e+000, 1.00000000e+000,\n",
       "        1.00000000e+000, 1.00000000e+000, 1.00000000e+000,\n",
       "        1.00000000e+000, 1.00000000e+000, 1.00000000e+000,\n",
       "        1.00000000e+000, 1.00000000e+000, 1.00000000e+000,\n",
       "        1.00000000e+000, 1.00000000e+000, 1.00000000e+000,\n",
       "        1.00000000e+000, 1.00000000e+000, 1.00000000e+000,\n",
       "        1.00000000e+000, 1.00000000e+000, 1.26216047e-107,\n",
       "        6.52186715e-091, 3.62891786e-106, 3.39925330e-112,\n",
       "        6.47581047e-070, 2.34596389e-092, 2.71278892e-092,\n",
       "        1.19985376e-060, 1.96388577e-056, 3.10216426e-076,\n",
       "        1.00000000e+000, 2.11783104e-099, 2.06909648e-088,\n",
       "        6.65653198e-091, 1.00000000e+000, 1.00000000e+000,\n",
       "        1.00000000e+000, 1.00000000e+000, 1.00000000e+000,\n",
       "        1.00000000e+000, 1.00000000e+000, 1.00000000e+000,\n",
       "        1.00000000e+000, 1.00000000e+000, 1.00000000e+000,\n",
       "        1.00000000e+000, 1.00000000e+000, 1.00000000e+000,\n",
       "        1.00000000e+000, 1.00000000e+000, 1.00000000e+000,\n",
       "        1.00000000e+000, 1.00000000e+000, 1.00000000e+000,\n",
       "        1.00000000e+000, 1.00000000e+000, 1.00000000e+000,\n",
       "        1.00000000e+000, 1.00000000e+000, 1.00000000e+000,\n",
       "        1.00000000e+000, 2.83429267e-094, 1.08989022e-059,\n",
       "        2.17802587e-127, 5.97654079e-114, 4.39298959e-058,\n",
       "        1.50262520e-032, 6.32399288e-071, 2.55047793e-115,\n",
       "        3.73332938e-077, 1.13114716e-034, 1.30414871e-100]])"
      ]
     },
     "execution_count": 1724,
     "metadata": {},
     "output_type": "execute_result"
    }
   ],
   "source": [
    "mfa.Rjt"
   ]
  },
  {
   "cell_type": "code",
   "execution_count": null,
   "metadata": {},
   "outputs": [],
   "source": []
  },
  {
   "cell_type": "code",
   "execution_count": null,
   "metadata": {},
   "outputs": [],
   "source": []
  }
 ],
 "metadata": {
  "kernelspec": {
   "display_name": "Python 3",
   "language": "python",
   "name": "python3"
  },
  "language_info": {
   "codemirror_mode": {
    "name": "ipython",
    "version": 3
   },
   "file_extension": ".py",
   "mimetype": "text/x-python",
   "name": "python",
   "nbconvert_exporter": "python",
   "pygments_lexer": "ipython3",
   "version": "3.6.9"
  }
 },
 "nbformat": 4,
 "nbformat_minor": 4
}
